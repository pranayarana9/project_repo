{
 "cells": [
  {
   "cell_type": "markdown",
   "metadata": {},
   "source": [
    "## Introduction"
   ]
  },
  {
   "cell_type": "markdown",
   "metadata": {},
   "source": [
    "##### Data"
   ]
  },
  {
   "cell_type": "markdown",
   "metadata": {},
   "source": [
    "Forest Fire dataset.\n",
    "Info at: [UCI Forest Fire Dataset](https://archive.ics.uci.edu/ml/datasets/forest+fires)\n",
    "\n",
    "Source:\n",
    "\n",
    "Paulo Cortez, pcortez '@' dsi.uminho.pt, Department of Information Systems, University of Minho, Portugal.\n",
    "Aníbal Morais, araimorais '@' gmail.com, Department of Information Systems, University of Minho, Portugal.\n",
    "\n",
    "Data Set Information:\n",
    "\n",
    "In [Cortez and Morais, 2007], the output 'area' was first transformed with a ln(x+1) function.\n",
    "Then, several Data Mining methods were applied. After fitting the models, the outputs were\n",
    "post-processed with the inverse of the ln(x+1) transform. Four different input setups were\n",
    "used. The experiments were conducted using a 10-fold (cross-validation) x 30 runs. Two\n",
    "regression metrics were measured: MAD and RMSE. A Gaussian support vector machine (SVM) fed\n",
    "with only 4 direct weather conditions (temp, RH, wind and rain) obtained the best MAD value:\n",
    "12.71 +- 0.01 (mean and confidence interval within 95% using a t-student distribution). The\n",
    "best RMSE was attained by the naive mean predictor. An analysis to the regression error curve\n",
    "(REC) shows that the SVM model predicts more examples within a lower admitted error. In effect,\n",
    "the SVM model predicts better small fires, which are the majority.\n",
    "\n",
    "Attribute Information:\n",
    "\n",
    "For more information, read [Cortez and Morais, 2007].\n",
    "1. X - x-axis spatial coordinate within the Montesinho park map: 1 to 9\n",
    "2. Y - y-axis spatial coordinate within the Montesinho park map: 2 to 9\n",
    "3. month - month of the year: 'jan' to 'dec'\n",
    "4. day - day of the week: 'mon' to 'sun'\n",
    "5. FFMC - FFMC index from the FWI system: 18.7 to 96.20\n",
    "6. DMC - DMC index from the FWI system: 1.1 to 291.3\n",
    "7. DC - DC index from the FWI system: 7.9 to 860.6\n",
    "8. ISI - ISI index from the FWI system: 0.0 to 56.10\n",
    "9. temp - temperature in Celsius degrees: 2.2 to 33.30\n",
    "10. RH - relative humidity in %: 15.0 to 100\n",
    "11. wind - wind speed in km/h: 0.40 to 9.40\n",
    "12. rain - outside rain in mm/m2 : 0.0 to 6.4\n",
    "13. area - the burned area of the forest (in ha): 0.00 to 1090.84\n",
    "(this output variable is very skewed towards 0.0, thus it may make\n",
    "sense to model with the logarithm transform).\n",
    "\n",
    "\n",
    "Relevant Papers:\n",
    "\n",
    "[Cortez and Morais, 2007](http://www.dsi.uminho.pt/~pcortez/fires.pdf) P. Cortez and A. Morais. A Data Mining Approach to Predict Forest Fires using Meteorological Data. In J. Neves, M. F. Santos and J. Machado Eds., New Trends in Artificial Intelligence, Proceedings of the 13th EPIA 2007 - Portuguese Conference on Artificial Intelligence, December, Guimarães, Portugal, pp. 512-523, 2007. APPIA, ISBN-13 978-989-95618-0-9. Available at: [Web Link](http://www.dsi.uminho.pt/~pcortez/fires.pdf)\n",
    "\n",
    "\n",
    "Citation Request:\n",
    "\n",
    "This dataset is public available for research. The details are described in [Cortez and Morais, 2007](http://www.dsi.uminho.pt/~pcortez/fires.pdf).\n",
    "Please include this citation if you plan to use this database:\n",
    "[Cortez and Morais, 2007](http://www.dsi.uminho.pt/~pcortez/fires.pdf) P. Cortez and A. Morais. A Data Mining Approach to Predict Forest Fires using Meteorological Data. In J. Neves, M. F. Santos and J. Machado Eds., New Trends in Artificial Intelligence, Proceedings of the 13th EPIA 2007 - Portuguese Conference on Artificial Intelligence, December, Guimarães, Portugal, pp. 512-523, 2007. APPIA, ISBN-13 978-989-95618-0-9. Available at: [Web Link](http://www.dsi.uminho.pt/~pcortez/fires.pdf)\n"
   ]
  },
  {
   "cell_type": "code",
   "execution_count": 1,
   "metadata": {},
   "outputs": [],
   "source": [
    "import numpy as np\n",
    "import pandas as pd\n",
    "import matplotlib.pyplot as plt\n",
    "import matplotlib.cm as cm\n",
    "from sklearn.preprocessing import StandardScaler\n",
    "from sklearn.model_selection import train_test_split\n",
    "from sklearn.metrics import accuracy_score,confusion_matrix, classification_report, ConfusionMatrixDisplay\n",
    "from sklearn.neighbors import KNeighborsClassifier\n",
    "from sklearn.ensemble import RandomForestClassifier\n",
    "from sklearn.tree import DecisionTreeClassifier \n",
    "from sklearn import naive_bayes   \n",
    "from sklearn.model_selection import GridSearchCV\n",
    "#from xgboost import plot_importance\n",
    "from sklearn import tree\n",
    "#import graphviz\n",
    "import seaborn as sns; \n",
    "sns.axes_style(\"whitegrid\")\n",
    "sns.set_context(\"paper\")\n",
    "np.random.seed(0)\n",
    "import warnings \n",
    "from sklearn.preprocessing import LabelEncoder\n",
    "from xgboost import XGBRegressor\n",
    "from sklearn.metrics import mean_squared_error\n",
    "from sklearn.metrics import r2_score\n",
    "warnings.filterwarnings(\"ignore\")\n",
    "from sklearn.decomposition import PCA\n",
    "from sklearn.discriminant_analysis import LinearDiscriminantAnalysis\n",
    "from sklearn.manifold import TSNE\n",
    "from sklearn.model_selection import RepeatedStratifiedKFold\n",
    "from sklearn.model_selection import cross_val_score\n",
    "import pandas as pd\n",
    "import seaborn as sns\n",
    "import matplotlib.pyplot as plt\n",
    "import matplotlib.cm as cm\n",
    "from sklearn.preprocessing import StandardScaler\n",
    "from imblearn.over_sampling import SMOTE \n",
    "from sklearn.svm import SVR"
   ]
  },
  {
   "cell_type": "code",
   "execution_count": 2,
   "metadata": {},
   "outputs": [],
   "source": [
    "df = pd.read_csv('forestfires.csv')"
   ]
  },
  {
   "cell_type": "code",
   "execution_count": 3,
   "metadata": {},
   "outputs": [
    {
     "data": {
      "text/html": [
       "<div>\n",
       "<style scoped>\n",
       "    .dataframe tbody tr th:only-of-type {\n",
       "        vertical-align: middle;\n",
       "    }\n",
       "\n",
       "    .dataframe tbody tr th {\n",
       "        vertical-align: top;\n",
       "    }\n",
       "\n",
       "    .dataframe thead th {\n",
       "        text-align: right;\n",
       "    }\n",
       "</style>\n",
       "<table border=\"1\" class=\"dataframe\">\n",
       "  <thead>\n",
       "    <tr style=\"text-align: right;\">\n",
       "      <th></th>\n",
       "      <th>X</th>\n",
       "      <th>Y</th>\n",
       "      <th>month</th>\n",
       "      <th>day</th>\n",
       "      <th>FFMC</th>\n",
       "      <th>DMC</th>\n",
       "      <th>DC</th>\n",
       "      <th>ISI</th>\n",
       "      <th>temp</th>\n",
       "      <th>RH</th>\n",
       "      <th>wind</th>\n",
       "      <th>rain</th>\n",
       "      <th>area</th>\n",
       "    </tr>\n",
       "  </thead>\n",
       "  <tbody>\n",
       "    <tr>\n",
       "      <th>213</th>\n",
       "      <td>7</td>\n",
       "      <td>3</td>\n",
       "      <td>mar</td>\n",
       "      <td>mon</td>\n",
       "      <td>87.6</td>\n",
       "      <td>52.2</td>\n",
       "      <td>103.8</td>\n",
       "      <td>5.0</td>\n",
       "      <td>11.0</td>\n",
       "      <td>46</td>\n",
       "      <td>5.8</td>\n",
       "      <td>0.0</td>\n",
       "      <td>27.35</td>\n",
       "    </tr>\n",
       "    <tr>\n",
       "      <th>435</th>\n",
       "      <td>2</td>\n",
       "      <td>5</td>\n",
       "      <td>jul</td>\n",
       "      <td>sat</td>\n",
       "      <td>90.8</td>\n",
       "      <td>84.7</td>\n",
       "      <td>376.6</td>\n",
       "      <td>5.6</td>\n",
       "      <td>23.8</td>\n",
       "      <td>51</td>\n",
       "      <td>1.8</td>\n",
       "      <td>0.0</td>\n",
       "      <td>0.00</td>\n",
       "    </tr>\n",
       "    <tr>\n",
       "      <th>343</th>\n",
       "      <td>8</td>\n",
       "      <td>6</td>\n",
       "      <td>sep</td>\n",
       "      <td>mon</td>\n",
       "      <td>91.5</td>\n",
       "      <td>130.1</td>\n",
       "      <td>807.1</td>\n",
       "      <td>7.5</td>\n",
       "      <td>15.9</td>\n",
       "      <td>51</td>\n",
       "      <td>4.5</td>\n",
       "      <td>0.0</td>\n",
       "      <td>2.18</td>\n",
       "    </tr>\n",
       "    <tr>\n",
       "      <th>230</th>\n",
       "      <td>4</td>\n",
       "      <td>4</td>\n",
       "      <td>sep</td>\n",
       "      <td>wed</td>\n",
       "      <td>92.9</td>\n",
       "      <td>133.3</td>\n",
       "      <td>699.6</td>\n",
       "      <td>9.2</td>\n",
       "      <td>26.4</td>\n",
       "      <td>21</td>\n",
       "      <td>4.5</td>\n",
       "      <td>0.0</td>\n",
       "      <td>88.49</td>\n",
       "    </tr>\n",
       "    <tr>\n",
       "      <th>171</th>\n",
       "      <td>8</td>\n",
       "      <td>6</td>\n",
       "      <td>aug</td>\n",
       "      <td>wed</td>\n",
       "      <td>85.6</td>\n",
       "      <td>90.4</td>\n",
       "      <td>609.6</td>\n",
       "      <td>6.6</td>\n",
       "      <td>17.4</td>\n",
       "      <td>50</td>\n",
       "      <td>4.0</td>\n",
       "      <td>0.0</td>\n",
       "      <td>2.69</td>\n",
       "    </tr>\n",
       "  </tbody>\n",
       "</table>\n",
       "</div>"
      ],
      "text/plain": [
       "     X  Y month  day  FFMC    DMC     DC  ISI  temp  RH  wind  rain   area\n",
       "213  7  3   mar  mon  87.6   52.2  103.8  5.0  11.0  46   5.8   0.0  27.35\n",
       "435  2  5   jul  sat  90.8   84.7  376.6  5.6  23.8  51   1.8   0.0   0.00\n",
       "343  8  6   sep  mon  91.5  130.1  807.1  7.5  15.9  51   4.5   0.0   2.18\n",
       "230  4  4   sep  wed  92.9  133.3  699.6  9.2  26.4  21   4.5   0.0  88.49\n",
       "171  8  6   aug  wed  85.6   90.4  609.6  6.6  17.4  50   4.0   0.0   2.69"
      ]
     },
     "execution_count": 3,
     "metadata": {},
     "output_type": "execute_result"
    }
   ],
   "source": [
    "df.sample(5)"
   ]
  },
  {
   "cell_type": "code",
   "execution_count": 4,
   "metadata": {},
   "outputs": [
    {
     "name": "stdout",
     "output_type": "stream",
     "text": [
      "<class 'pandas.core.frame.DataFrame'>\n",
      "RangeIndex: 517 entries, 0 to 516\n",
      "Data columns (total 13 columns):\n",
      " #   Column  Non-Null Count  Dtype  \n",
      "---  ------  --------------  -----  \n",
      " 0   X       517 non-null    int64  \n",
      " 1   Y       517 non-null    int64  \n",
      " 2   month   517 non-null    object \n",
      " 3   day     517 non-null    object \n",
      " 4   FFMC    517 non-null    float64\n",
      " 5   DMC     517 non-null    float64\n",
      " 6   DC      517 non-null    float64\n",
      " 7   ISI     517 non-null    float64\n",
      " 8   temp    517 non-null    float64\n",
      " 9   RH      517 non-null    int64  \n",
      " 10  wind    517 non-null    float64\n",
      " 11  rain    517 non-null    float64\n",
      " 12  area    517 non-null    float64\n",
      "dtypes: float64(8), int64(3), object(2)\n",
      "memory usage: 52.6+ KB\n"
     ]
    }
   ],
   "source": [
    "df.info()"
   ]
  },
  {
   "cell_type": "code",
   "execution_count": 5,
   "metadata": {},
   "outputs": [
    {
     "data": {
      "text/html": [
       "<div>\n",
       "<style scoped>\n",
       "    .dataframe tbody tr th:only-of-type {\n",
       "        vertical-align: middle;\n",
       "    }\n",
       "\n",
       "    .dataframe tbody tr th {\n",
       "        vertical-align: top;\n",
       "    }\n",
       "\n",
       "    .dataframe thead th {\n",
       "        text-align: right;\n",
       "    }\n",
       "</style>\n",
       "<table border=\"1\" class=\"dataframe\">\n",
       "  <thead>\n",
       "    <tr style=\"text-align: right;\">\n",
       "      <th></th>\n",
       "      <th>X</th>\n",
       "      <th>Y</th>\n",
       "      <th>FFMC</th>\n",
       "      <th>DMC</th>\n",
       "      <th>DC</th>\n",
       "      <th>ISI</th>\n",
       "      <th>temp</th>\n",
       "      <th>RH</th>\n",
       "      <th>wind</th>\n",
       "      <th>rain</th>\n",
       "      <th>area</th>\n",
       "    </tr>\n",
       "  </thead>\n",
       "  <tbody>\n",
       "    <tr>\n",
       "      <th>count</th>\n",
       "      <td>517.000000</td>\n",
       "      <td>517.000000</td>\n",
       "      <td>517.000000</td>\n",
       "      <td>517.000000</td>\n",
       "      <td>517.000000</td>\n",
       "      <td>517.000000</td>\n",
       "      <td>517.000000</td>\n",
       "      <td>517.000000</td>\n",
       "      <td>517.000000</td>\n",
       "      <td>517.000000</td>\n",
       "      <td>517.000000</td>\n",
       "    </tr>\n",
       "    <tr>\n",
       "      <th>mean</th>\n",
       "      <td>4.669246</td>\n",
       "      <td>4.299807</td>\n",
       "      <td>90.644681</td>\n",
       "      <td>110.872340</td>\n",
       "      <td>547.940039</td>\n",
       "      <td>9.021663</td>\n",
       "      <td>18.889168</td>\n",
       "      <td>44.288201</td>\n",
       "      <td>4.017602</td>\n",
       "      <td>0.021663</td>\n",
       "      <td>12.847292</td>\n",
       "    </tr>\n",
       "    <tr>\n",
       "      <th>std</th>\n",
       "      <td>2.313778</td>\n",
       "      <td>1.229900</td>\n",
       "      <td>5.520111</td>\n",
       "      <td>64.046482</td>\n",
       "      <td>248.066192</td>\n",
       "      <td>4.559477</td>\n",
       "      <td>5.806625</td>\n",
       "      <td>16.317469</td>\n",
       "      <td>1.791653</td>\n",
       "      <td>0.295959</td>\n",
       "      <td>63.655818</td>\n",
       "    </tr>\n",
       "    <tr>\n",
       "      <th>min</th>\n",
       "      <td>1.000000</td>\n",
       "      <td>2.000000</td>\n",
       "      <td>18.700000</td>\n",
       "      <td>1.100000</td>\n",
       "      <td>7.900000</td>\n",
       "      <td>0.000000</td>\n",
       "      <td>2.200000</td>\n",
       "      <td>15.000000</td>\n",
       "      <td>0.400000</td>\n",
       "      <td>0.000000</td>\n",
       "      <td>0.000000</td>\n",
       "    </tr>\n",
       "    <tr>\n",
       "      <th>25%</th>\n",
       "      <td>3.000000</td>\n",
       "      <td>4.000000</td>\n",
       "      <td>90.200000</td>\n",
       "      <td>68.600000</td>\n",
       "      <td>437.700000</td>\n",
       "      <td>6.500000</td>\n",
       "      <td>15.500000</td>\n",
       "      <td>33.000000</td>\n",
       "      <td>2.700000</td>\n",
       "      <td>0.000000</td>\n",
       "      <td>0.000000</td>\n",
       "    </tr>\n",
       "    <tr>\n",
       "      <th>50%</th>\n",
       "      <td>4.000000</td>\n",
       "      <td>4.000000</td>\n",
       "      <td>91.600000</td>\n",
       "      <td>108.300000</td>\n",
       "      <td>664.200000</td>\n",
       "      <td>8.400000</td>\n",
       "      <td>19.300000</td>\n",
       "      <td>42.000000</td>\n",
       "      <td>4.000000</td>\n",
       "      <td>0.000000</td>\n",
       "      <td>0.520000</td>\n",
       "    </tr>\n",
       "    <tr>\n",
       "      <th>75%</th>\n",
       "      <td>7.000000</td>\n",
       "      <td>5.000000</td>\n",
       "      <td>92.900000</td>\n",
       "      <td>142.400000</td>\n",
       "      <td>713.900000</td>\n",
       "      <td>10.800000</td>\n",
       "      <td>22.800000</td>\n",
       "      <td>53.000000</td>\n",
       "      <td>4.900000</td>\n",
       "      <td>0.000000</td>\n",
       "      <td>6.570000</td>\n",
       "    </tr>\n",
       "    <tr>\n",
       "      <th>max</th>\n",
       "      <td>9.000000</td>\n",
       "      <td>9.000000</td>\n",
       "      <td>96.200000</td>\n",
       "      <td>291.300000</td>\n",
       "      <td>860.600000</td>\n",
       "      <td>56.100000</td>\n",
       "      <td>33.300000</td>\n",
       "      <td>100.000000</td>\n",
       "      <td>9.400000</td>\n",
       "      <td>6.400000</td>\n",
       "      <td>1090.840000</td>\n",
       "    </tr>\n",
       "  </tbody>\n",
       "</table>\n",
       "</div>"
      ],
      "text/plain": [
       "                X           Y        FFMC         DMC          DC         ISI  \\\n",
       "count  517.000000  517.000000  517.000000  517.000000  517.000000  517.000000   \n",
       "mean     4.669246    4.299807   90.644681  110.872340  547.940039    9.021663   \n",
       "std      2.313778    1.229900    5.520111   64.046482  248.066192    4.559477   \n",
       "min      1.000000    2.000000   18.700000    1.100000    7.900000    0.000000   \n",
       "25%      3.000000    4.000000   90.200000   68.600000  437.700000    6.500000   \n",
       "50%      4.000000    4.000000   91.600000  108.300000  664.200000    8.400000   \n",
       "75%      7.000000    5.000000   92.900000  142.400000  713.900000   10.800000   \n",
       "max      9.000000    9.000000   96.200000  291.300000  860.600000   56.100000   \n",
       "\n",
       "             temp          RH        wind        rain         area  \n",
       "count  517.000000  517.000000  517.000000  517.000000   517.000000  \n",
       "mean    18.889168   44.288201    4.017602    0.021663    12.847292  \n",
       "std      5.806625   16.317469    1.791653    0.295959    63.655818  \n",
       "min      2.200000   15.000000    0.400000    0.000000     0.000000  \n",
       "25%     15.500000   33.000000    2.700000    0.000000     0.000000  \n",
       "50%     19.300000   42.000000    4.000000    0.000000     0.520000  \n",
       "75%     22.800000   53.000000    4.900000    0.000000     6.570000  \n",
       "max     33.300000  100.000000    9.400000    6.400000  1090.840000  "
      ]
     },
     "execution_count": 5,
     "metadata": {},
     "output_type": "execute_result"
    }
   ],
   "source": [
    "df.describe()"
   ]
  },
  {
   "cell_type": "code",
   "execution_count": 6,
   "metadata": {},
   "outputs": [
    {
     "name": "stdout",
     "output_type": "stream",
     "text": [
      "Non-zero values\n",
      "X        517\n",
      "Y        517\n",
      "month    517\n",
      "day      517\n",
      "FFMC     517\n",
      "DMC      517\n",
      "DC       517\n",
      "ISI      516\n",
      "temp     517\n",
      "RH       517\n",
      "wind     517\n",
      "rain       8\n",
      "area     270\n",
      "dtype: int64\n"
     ]
    }
   ],
   "source": [
    "print(\"Non-zero values\")\n",
    "print(df.astype(bool).sum(axis=0))"
   ]
  },
  {
   "cell_type": "markdown",
   "metadata": {},
   "source": [
    "We see that we have a lot of zero values. Zero values are all the values where the area burned was less than 0.01 hectors. We have $517-270 = 247$ zeros in the column area which makes our data vert skewed towards left."
   ]
  },
  {
   "cell_type": "code",
   "execution_count": 7,
   "metadata": {},
   "outputs": [
    {
     "data": {
      "image/png": "[encoded data removed]",
      "text/plain": [
       "<Figure size 864x720 with 2 Axes>"
      ]
     },
     "metadata": {
      "needs_background": "light"
     },
     "output_type": "display_data"
    }
   ],
   "source": [
    "plt.figure(figsize=(12,10))\n",
    "p=sns.heatmap(df.corr(), annot=True, vmin=-1, vmax=1,cmap =\"coolwarm\")"
   ]
  },
  {
   "cell_type": "markdown",
   "metadata": {},
   "source": [
    "Visualizing the explanation power of our variables on each of the principal components."
   ]
  },
  {
   "cell_type": "code",
   "execution_count": null,
   "metadata": {},
   "outputs": [],
   "source": []
  },
  {
   "cell_type": "code",
   "execution_count": 8,
   "metadata": {},
   "outputs": [
    {
     "data": {
      "text/html": [
       "<div>\n",
       "<style scoped>\n",
       "    .dataframe tbody tr th:only-of-type {\n",
       "        vertical-align: middle;\n",
       "    }\n",
       "\n",
       "    .dataframe tbody tr th {\n",
       "        vertical-align: top;\n",
       "    }\n",
       "\n",
       "    .dataframe thead th {\n",
       "        text-align: right;\n",
       "    }\n",
       "</style>\n",
       "<table border=\"1\" class=\"dataframe\">\n",
       "  <thead>\n",
       "    <tr style=\"text-align: right;\">\n",
       "      <th></th>\n",
       "      <th>X</th>\n",
       "      <th>Y</th>\n",
       "      <th>month</th>\n",
       "      <th>day</th>\n",
       "      <th>FFMC</th>\n",
       "      <th>DMC</th>\n",
       "      <th>DC</th>\n",
       "      <th>ISI</th>\n",
       "      <th>temp</th>\n",
       "      <th>RH</th>\n",
       "      <th>wind</th>\n",
       "      <th>rain</th>\n",
       "      <th>area</th>\n",
       "      <th>area_acres</th>\n",
       "    </tr>\n",
       "  </thead>\n",
       "  <tbody>\n",
       "    <tr>\n",
       "      <th>512</th>\n",
       "      <td>4</td>\n",
       "      <td>3</td>\n",
       "      <td>aug</td>\n",
       "      <td>sun</td>\n",
       "      <td>81.6</td>\n",
       "      <td>56.7</td>\n",
       "      <td>665.6</td>\n",
       "      <td>1.9</td>\n",
       "      <td>27.8</td>\n",
       "      <td>32</td>\n",
       "      <td>2.7</td>\n",
       "      <td>0.0</td>\n",
       "      <td>6.44</td>\n",
       "      <td>15.913562</td>\n",
       "    </tr>\n",
       "    <tr>\n",
       "      <th>513</th>\n",
       "      <td>2</td>\n",
       "      <td>4</td>\n",
       "      <td>aug</td>\n",
       "      <td>sun</td>\n",
       "      <td>81.6</td>\n",
       "      <td>56.7</td>\n",
       "      <td>665.6</td>\n",
       "      <td>1.9</td>\n",
       "      <td>21.9</td>\n",
       "      <td>71</td>\n",
       "      <td>5.8</td>\n",
       "      <td>0.0</td>\n",
       "      <td>54.29</td>\n",
       "      <td>134.153304</td>\n",
       "    </tr>\n",
       "    <tr>\n",
       "      <th>514</th>\n",
       "      <td>7</td>\n",
       "      <td>4</td>\n",
       "      <td>aug</td>\n",
       "      <td>sun</td>\n",
       "      <td>81.6</td>\n",
       "      <td>56.7</td>\n",
       "      <td>665.6</td>\n",
       "      <td>1.9</td>\n",
       "      <td>21.2</td>\n",
       "      <td>70</td>\n",
       "      <td>6.7</td>\n",
       "      <td>0.0</td>\n",
       "      <td>11.16</td>\n",
       "      <td>27.576918</td>\n",
       "    </tr>\n",
       "    <tr>\n",
       "      <th>515</th>\n",
       "      <td>1</td>\n",
       "      <td>4</td>\n",
       "      <td>aug</td>\n",
       "      <td>sat</td>\n",
       "      <td>94.4</td>\n",
       "      <td>146.0</td>\n",
       "      <td>614.7</td>\n",
       "      <td>11.3</td>\n",
       "      <td>25.6</td>\n",
       "      <td>42</td>\n",
       "      <td>4.0</td>\n",
       "      <td>0.0</td>\n",
       "      <td>0.00</td>\n",
       "      <td>0.000000</td>\n",
       "    </tr>\n",
       "    <tr>\n",
       "      <th>516</th>\n",
       "      <td>6</td>\n",
       "      <td>3</td>\n",
       "      <td>nov</td>\n",
       "      <td>tue</td>\n",
       "      <td>79.5</td>\n",
       "      <td>3.0</td>\n",
       "      <td>106.7</td>\n",
       "      <td>1.1</td>\n",
       "      <td>11.8</td>\n",
       "      <td>31</td>\n",
       "      <td>4.5</td>\n",
       "      <td>0.0</td>\n",
       "      <td>0.00</td>\n",
       "      <td>0.000000</td>\n",
       "    </tr>\n",
       "  </tbody>\n",
       "</table>\n",
       "</div>"
      ],
      "text/plain": [
       "     X  Y month  day  FFMC    DMC     DC   ISI  temp  RH  wind  rain   area  \\\n",
       "512  4  3   aug  sun  81.6   56.7  665.6   1.9  27.8  32   2.7   0.0   6.44   \n",
       "513  2  4   aug  sun  81.6   56.7  665.6   1.9  21.9  71   5.8   0.0  54.29   \n",
       "514  7  4   aug  sun  81.6   56.7  665.6   1.9  21.2  70   6.7   0.0  11.16   \n",
       "515  1  4   aug  sat  94.4  146.0  614.7  11.3  25.6  42   4.0   0.0   0.00   \n",
       "516  6  3   nov  tue  79.5    3.0  106.7   1.1  11.8  31   4.5   0.0   0.00   \n",
       "\n",
       "     area_acres  \n",
       "512   15.913562  \n",
       "513  134.153304  \n",
       "514   27.576918  \n",
       "515    0.000000  \n",
       "516    0.000000  "
      ]
     },
     "execution_count": 8,
     "metadata": {},
     "output_type": "execute_result"
    }
   ],
   "source": [
    "area_acres = df[['area']]\n",
    "area_acres = area_acres.apply(lambda x: 2.47105*x)\n",
    "df['area_acres'] = area_acres\n",
    "df.tail()"
   ]
  },
  {
   "cell_type": "markdown",
   "metadata": {},
   "source": [
    "Encode fire_class_index using this\n",
    "\n",
    "https://www.nwcg.gov/term/glossary/size-class-of-fire?fbclid=IwAR2F58sRg2prymrdkzphAwjPIIvokwD9ZgYqAGRMhcpkPeIhR7UuaiTvdIU\n"
   ]
  },
  {
   "cell_type": "code",
   "execution_count": 9,
   "metadata": {},
   "outputs": [
    {
     "data": {
      "text/html": [
       "<div>\n",
       "<style scoped>\n",
       "    .dataframe tbody tr th:only-of-type {\n",
       "        vertical-align: middle;\n",
       "    }\n",
       "\n",
       "    .dataframe tbody tr th {\n",
       "        vertical-align: top;\n",
       "    }\n",
       "\n",
       "    .dataframe thead th {\n",
       "        text-align: right;\n",
       "    }\n",
       "</style>\n",
       "<table border=\"1\" class=\"dataframe\">\n",
       "  <thead>\n",
       "    <tr style=\"text-align: right;\">\n",
       "      <th></th>\n",
       "      <th>X</th>\n",
       "      <th>Y</th>\n",
       "      <th>month</th>\n",
       "      <th>day</th>\n",
       "      <th>FFMC</th>\n",
       "      <th>DMC</th>\n",
       "      <th>DC</th>\n",
       "      <th>ISI</th>\n",
       "      <th>temp</th>\n",
       "      <th>RH</th>\n",
       "      <th>wind</th>\n",
       "      <th>rain</th>\n",
       "      <th>area</th>\n",
       "      <th>area_acres</th>\n",
       "      <th>fire_class_index</th>\n",
       "    </tr>\n",
       "  </thead>\n",
       "  <tbody>\n",
       "    <tr>\n",
       "      <th>512</th>\n",
       "      <td>4</td>\n",
       "      <td>3</td>\n",
       "      <td>aug</td>\n",
       "      <td>sun</td>\n",
       "      <td>81.6</td>\n",
       "      <td>56.7</td>\n",
       "      <td>665.6</td>\n",
       "      <td>1.9</td>\n",
       "      <td>27.8</td>\n",
       "      <td>32</td>\n",
       "      <td>2.7</td>\n",
       "      <td>0.0</td>\n",
       "      <td>6.44</td>\n",
       "      <td>15.913562</td>\n",
       "      <td>2</td>\n",
       "    </tr>\n",
       "    <tr>\n",
       "      <th>513</th>\n",
       "      <td>2</td>\n",
       "      <td>4</td>\n",
       "      <td>aug</td>\n",
       "      <td>sun</td>\n",
       "      <td>81.6</td>\n",
       "      <td>56.7</td>\n",
       "      <td>665.6</td>\n",
       "      <td>1.9</td>\n",
       "      <td>21.9</td>\n",
       "      <td>71</td>\n",
       "      <td>5.8</td>\n",
       "      <td>0.0</td>\n",
       "      <td>54.29</td>\n",
       "      <td>134.153304</td>\n",
       "      <td>3</td>\n",
       "    </tr>\n",
       "    <tr>\n",
       "      <th>514</th>\n",
       "      <td>7</td>\n",
       "      <td>4</td>\n",
       "      <td>aug</td>\n",
       "      <td>sun</td>\n",
       "      <td>81.6</td>\n",
       "      <td>56.7</td>\n",
       "      <td>665.6</td>\n",
       "      <td>1.9</td>\n",
       "      <td>21.2</td>\n",
       "      <td>70</td>\n",
       "      <td>6.7</td>\n",
       "      <td>0.0</td>\n",
       "      <td>11.16</td>\n",
       "      <td>27.576918</td>\n",
       "      <td>2</td>\n",
       "    </tr>\n",
       "    <tr>\n",
       "      <th>515</th>\n",
       "      <td>1</td>\n",
       "      <td>4</td>\n",
       "      <td>aug</td>\n",
       "      <td>sat</td>\n",
       "      <td>94.4</td>\n",
       "      <td>146.0</td>\n",
       "      <td>614.7</td>\n",
       "      <td>11.3</td>\n",
       "      <td>25.6</td>\n",
       "      <td>42</td>\n",
       "      <td>4.0</td>\n",
       "      <td>0.0</td>\n",
       "      <td>0.00</td>\n",
       "      <td>0.000000</td>\n",
       "      <td>0</td>\n",
       "    </tr>\n",
       "    <tr>\n",
       "      <th>516</th>\n",
       "      <td>6</td>\n",
       "      <td>3</td>\n",
       "      <td>nov</td>\n",
       "      <td>tue</td>\n",
       "      <td>79.5</td>\n",
       "      <td>3.0</td>\n",
       "      <td>106.7</td>\n",
       "      <td>1.1</td>\n",
       "      <td>11.8</td>\n",
       "      <td>31</td>\n",
       "      <td>4.5</td>\n",
       "      <td>0.0</td>\n",
       "      <td>0.00</td>\n",
       "      <td>0.000000</td>\n",
       "      <td>0</td>\n",
       "    </tr>\n",
       "  </tbody>\n",
       "</table>\n",
       "</div>"
      ],
      "text/plain": [
       "     X  Y month  day  FFMC    DMC     DC   ISI  temp  RH  wind  rain   area  \\\n",
       "512  4  3   aug  sun  81.6   56.7  665.6   1.9  27.8  32   2.7   0.0   6.44   \n",
       "513  2  4   aug  sun  81.6   56.7  665.6   1.9  21.9  71   5.8   0.0  54.29   \n",
       "514  7  4   aug  sun  81.6   56.7  665.6   1.9  21.2  70   6.7   0.0  11.16   \n",
       "515  1  4   aug  sat  94.4  146.0  614.7  11.3  25.6  42   4.0   0.0   0.00   \n",
       "516  6  3   nov  tue  79.5    3.0  106.7   1.1  11.8  31   4.5   0.0   0.00   \n",
       "\n",
       "     area_acres  fire_class_index  \n",
       "512   15.913562                 2  \n",
       "513  134.153304                 3  \n",
       "514   27.576918                 2  \n",
       "515    0.000000                 0  \n",
       "516    0.000000                 0  "
      ]
     },
     "execution_count": 9,
     "metadata": {},
     "output_type": "execute_result"
    }
   ],
   "source": [
    "#Index for [A,B,C,D,E,F,G]\n",
    "def get_fire_classes_index(area):\n",
    "    if area <= 0.25:\n",
    "        return 0\n",
    "    elif area > 0.25 and area < 10:\n",
    "        return 1\n",
    "    elif area >=10 and area < 100:\n",
    "        return 2\n",
    "    elif area >=100 and area < 300:\n",
    "        return 3\n",
    "    elif area >= 300 and area < 1000:\n",
    "        return 4\n",
    "    elif area >=1000 and area < 5000:\n",
    "        return 5\n",
    "    else:\n",
    "        return 6\n",
    "\n",
    "fire_classes = [\"A\",\"B\",\"C\",\"D\",\"E\",\"F\",\"G\"]\n",
    "df['fire_class_index'] = area_acres.apply(lambda e: get_fire_classes_index(e[0]), axis = 1)\n",
    "\n",
    "df.tail()"
   ]
  },
  {
   "cell_type": "markdown",
   "metadata": {},
   "source": [
    "Now lets perform more encoding for columns like month, day, and area."
   ]
  },
  {
   "cell_type": "code",
   "execution_count": 10,
   "metadata": {},
   "outputs": [
    {
     "data": {
      "text/html": [
       "<div>\n",
       "<style scoped>\n",
       "    .dataframe tbody tr th:only-of-type {\n",
       "        vertical-align: middle;\n",
       "    }\n",
       "\n",
       "    .dataframe tbody tr th {\n",
       "        vertical-align: top;\n",
       "    }\n",
       "\n",
       "    .dataframe thead th {\n",
       "        text-align: right;\n",
       "    }\n",
       "</style>\n",
       "<table border=\"1\" class=\"dataframe\">\n",
       "  <thead>\n",
       "    <tr style=\"text-align: right;\">\n",
       "      <th></th>\n",
       "      <th>X</th>\n",
       "      <th>Y</th>\n",
       "      <th>month</th>\n",
       "      <th>day</th>\n",
       "      <th>FFMC</th>\n",
       "      <th>DMC</th>\n",
       "      <th>DC</th>\n",
       "      <th>ISI</th>\n",
       "      <th>temp</th>\n",
       "      <th>RH</th>\n",
       "      <th>wind</th>\n",
       "      <th>rain</th>\n",
       "      <th>area</th>\n",
       "      <th>area_acres</th>\n",
       "      <th>fire_class_index</th>\n",
       "      <th>month_cat</th>\n",
       "      <th>day_cat</th>\n",
       "      <th>area_bin</th>\n",
       "    </tr>\n",
       "  </thead>\n",
       "  <tbody>\n",
       "    <tr>\n",
       "      <th>512</th>\n",
       "      <td>4</td>\n",
       "      <td>3</td>\n",
       "      <td>aug</td>\n",
       "      <td>sun</td>\n",
       "      <td>81.6</td>\n",
       "      <td>56.7</td>\n",
       "      <td>665.6</td>\n",
       "      <td>1.9</td>\n",
       "      <td>27.8</td>\n",
       "      <td>32</td>\n",
       "      <td>2.7</td>\n",
       "      <td>0.0</td>\n",
       "      <td>6.44</td>\n",
       "      <td>15.913562</td>\n",
       "      <td>2</td>\n",
       "      <td>1</td>\n",
       "      <td>3</td>\n",
       "      <td>1</td>\n",
       "    </tr>\n",
       "    <tr>\n",
       "      <th>513</th>\n",
       "      <td>2</td>\n",
       "      <td>4</td>\n",
       "      <td>aug</td>\n",
       "      <td>sun</td>\n",
       "      <td>81.6</td>\n",
       "      <td>56.7</td>\n",
       "      <td>665.6</td>\n",
       "      <td>1.9</td>\n",
       "      <td>21.9</td>\n",
       "      <td>71</td>\n",
       "      <td>5.8</td>\n",
       "      <td>0.0</td>\n",
       "      <td>54.29</td>\n",
       "      <td>134.153304</td>\n",
       "      <td>3</td>\n",
       "      <td>1</td>\n",
       "      <td>3</td>\n",
       "      <td>1</td>\n",
       "    </tr>\n",
       "    <tr>\n",
       "      <th>514</th>\n",
       "      <td>7</td>\n",
       "      <td>4</td>\n",
       "      <td>aug</td>\n",
       "      <td>sun</td>\n",
       "      <td>81.6</td>\n",
       "      <td>56.7</td>\n",
       "      <td>665.6</td>\n",
       "      <td>1.9</td>\n",
       "      <td>21.2</td>\n",
       "      <td>70</td>\n",
       "      <td>6.7</td>\n",
       "      <td>0.0</td>\n",
       "      <td>11.16</td>\n",
       "      <td>27.576918</td>\n",
       "      <td>2</td>\n",
       "      <td>1</td>\n",
       "      <td>3</td>\n",
       "      <td>1</td>\n",
       "    </tr>\n",
       "    <tr>\n",
       "      <th>515</th>\n",
       "      <td>1</td>\n",
       "      <td>4</td>\n",
       "      <td>aug</td>\n",
       "      <td>sat</td>\n",
       "      <td>94.4</td>\n",
       "      <td>146.0</td>\n",
       "      <td>614.7</td>\n",
       "      <td>11.3</td>\n",
       "      <td>25.6</td>\n",
       "      <td>42</td>\n",
       "      <td>4.0</td>\n",
       "      <td>0.0</td>\n",
       "      <td>0.00</td>\n",
       "      <td>0.000000</td>\n",
       "      <td>0</td>\n",
       "      <td>1</td>\n",
       "      <td>2</td>\n",
       "      <td>0</td>\n",
       "    </tr>\n",
       "    <tr>\n",
       "      <th>516</th>\n",
       "      <td>6</td>\n",
       "      <td>3</td>\n",
       "      <td>nov</td>\n",
       "      <td>tue</td>\n",
       "      <td>79.5</td>\n",
       "      <td>3.0</td>\n",
       "      <td>106.7</td>\n",
       "      <td>1.1</td>\n",
       "      <td>11.8</td>\n",
       "      <td>31</td>\n",
       "      <td>4.5</td>\n",
       "      <td>0.0</td>\n",
       "      <td>0.00</td>\n",
       "      <td>0.000000</td>\n",
       "      <td>0</td>\n",
       "      <td>9</td>\n",
       "      <td>5</td>\n",
       "      <td>0</td>\n",
       "    </tr>\n",
       "  </tbody>\n",
       "</table>\n",
       "</div>"
      ],
      "text/plain": [
       "     X  Y month  day  FFMC    DMC     DC   ISI  temp  RH  wind  rain   area  \\\n",
       "512  4  3   aug  sun  81.6   56.7  665.6   1.9  27.8  32   2.7   0.0   6.44   \n",
       "513  2  4   aug  sun  81.6   56.7  665.6   1.9  21.9  71   5.8   0.0  54.29   \n",
       "514  7  4   aug  sun  81.6   56.7  665.6   1.9  21.2  70   6.7   0.0  11.16   \n",
       "515  1  4   aug  sat  94.4  146.0  614.7  11.3  25.6  42   4.0   0.0   0.00   \n",
       "516  6  3   nov  tue  79.5    3.0  106.7   1.1  11.8  31   4.5   0.0   0.00   \n",
       "\n",
       "     area_acres  fire_class_index  month_cat  day_cat  area_bin  \n",
       "512   15.913562                 2          1        3         1  \n",
       "513  134.153304                 3          1        3         1  \n",
       "514   27.576918                 2          1        3         1  \n",
       "515    0.000000                 0          1        2         0  \n",
       "516    0.000000                 0          9        5         0  "
      ]
     },
     "execution_count": 10,
     "metadata": {},
     "output_type": "execute_result"
    }
   ],
   "source": [
    "#Encode non-numericals\n",
    "df[\"month\"] = df[\"month\"].astype('category')\n",
    "df.dtypes\n",
    "df[\"month_cat\"] = df[\"month\"].cat.codes\n",
    "df[\"day\"] = df[\"day\"].astype('category')\n",
    "df.dtypes\n",
    "df[\"day_cat\"] = df[\"day\"].cat.codes\n",
    "df.head()\n",
    "\n",
    "\n",
    "df['area_bin'] = 1 \n",
    "df.loc[df['area'] == 0.0, 'area_bin'] = 0\n",
    "df.tail()"
   ]
  },
  {
   "cell_type": "code",
   "execution_count": 11,
   "metadata": {},
   "outputs": [
    {
     "name": "stdout",
     "output_type": "stream",
     "text": [
      "0    248\n",
      "2    131\n",
      "1    107\n",
      "3     22\n",
      "4      7\n",
      "5      2\n",
      "Name: fire_class_index, dtype: int64\n"
     ]
    },
    {
     "data": {
      "image/png": "[encoded data removed]",
      "text/plain": [
       "<Figure size 432x288 with 1 Axes>"
      ]
     },
     "metadata": {
      "needs_background": "light"
     },
     "output_type": "display_data"
    }
   ],
   "source": [
    "print(df['fire_class_index'].value_counts())\n",
    "sns.countplot(x=df['fire_class_index'])\n",
    "plt.show()"
   ]
  },
  {
   "cell_type": "markdown",
   "metadata": {},
   "source": [
    "We see that a lot of our fires are of class A. Some of it are Class B and C. And, there are a lot of fires of class D, E and F."
   ]
  },
  {
   "cell_type": "markdown",
   "metadata": {},
   "source": [
    "We attempt to visualize temperature and DC in histograms based on the value of area_bin"
   ]
  },
  {
   "cell_type": "code",
   "execution_count": 12,
   "metadata": {},
   "outputs": [],
   "source": [
    "from collections import defaultdict\n",
    "dict_of_DC = defaultdict(list)\n",
    "dict_of_temp = defaultdict(list)\n",
    "dict_of_month = defaultdict(list)\n",
    "dict_of_rain = defaultdict(list)\n",
    "dict_of_wind = defaultdict(list)\n",
    "dict_of_RH = defaultdict(list)\n",
    "dict_of_X = defaultdict(list)\n",
    "dict_of_Y = defaultdict(list)\n",
    "dict_of_FFMC = defaultdict(list)\n",
    "for row in df.iterrows():\n",
    "    index = row[0]\n",
    "    DC = row[1]['DC']\n",
    "    temp = row[1]['temp']\n",
    "    area_bin = row[1]['area_bin']\n",
    "    month = row[1]['month_cat']\n",
    "    rain = row[1]['rain']\n",
    "    wind = row[1]['wind']\n",
    "    RH = row[1]['RH']\n",
    "    X = row[1]['X']\n",
    "    Y = row[1]['Y']\n",
    "    FFMC = row[1]['FFMC']\n",
    "    \n",
    "    dict_of_RH[area_bin].append(RH)\n",
    "    dict_of_DC[area_bin].append(DC)\n",
    "    dict_of_temp[area_bin].append(temp)\n",
    "    dict_of_month[area_bin].append(month)\n",
    "    dict_of_rain[area_bin].append(rain)\n",
    "    dict_of_wind[area_bin].append(wind)\n",
    "    dict_of_X[area_bin].append(X)\n",
    "    dict_of_Y[area_bin].append(Y)\n",
    "    dict_of_FFMC[area_bin].append(FFMC)\n",
    "\n"
   ]
  },
  {
   "cell_type": "code",
   "execution_count": 13,
   "metadata": {},
   "outputs": [
    {
     "data": {
      "image/png": "[encoded data removed]",
      "text/plain": [
       "<Figure size 2160x504 with 2 Axes>"
      ]
     },
     "metadata": {
      "needs_background": "light"
     },
     "output_type": "display_data"
    }
   ],
   "source": [
    "#Plotting histograms\n",
    "import random\n",
    "import numpy\n",
    "from matplotlib import pyplot as plt\n",
    "import statistics\n",
    "\n",
    "f = plt.figure()\n",
    "line = ['solid', 'dotted', 'dashed']\n",
    "\n",
    "colors = ['violet', 'blue', 'green', 'yellow', 'orange', 'red']\n",
    "f.add_subplot(1,2,1)\n",
    "i = 0\n",
    "for item in dict_of_DC:\n",
    "    list_DC = []\n",
    "    for value in dict_of_DC[item]:\n",
    "        list_DC.append(value)\n",
    "    \n",
    "    plt.hist(list_DC, bins =50, alpha=0.7, label=item)\n",
    "    plt.legend(loc='upper left')\n",
    "    plt.xlabel(\"DC\")\n",
    "    plt.ylabel(\"Frequency\")\n",
    "    plt.axvline(statistics.mean(list_DC), color='k', linestyle=line[i], linewidth=1)\n",
    "    i = i + 1\n",
    "    \n",
    "f.add_subplot(1,2,2)\n",
    "i = 0\n",
    "for item in dict_of_temp:\n",
    "    list_temp = []\n",
    "    for value in dict_of_temp[item]:\n",
    "        list_temp.append(value)\n",
    "    \n",
    "    plt.hist(list_temp, bins =50, alpha=0.7, label=item)\n",
    "    plt.legend(loc='upper left')\n",
    "    plt.xlabel(\"Temperarure\")\n",
    "    plt.ylabel(\"Frequency\")\n",
    "    plt.axvline(statistics.mean(list_temp), color='k', linestyle=line[i], linewidth=1)\n",
    "    \n",
    "    \n",
    "f.set_figheight(7)\n",
    "f.set_figwidth(30)"
   ]
  },
  {
   "cell_type": "code",
   "execution_count": 14,
   "metadata": {},
   "outputs": [
    {
     "name": "stdout",
     "output_type": "stream",
     "text": [
      "Month count of forest fire of class:  A\n",
      "-------------\n",
      "aug    86\n",
      "sep    75\n",
      "mar    35\n",
      "jul    14\n",
      "oct    10\n",
      "feb    10\n",
      "jun     9\n",
      "apr     5\n",
      "jan     2\n",
      "nov     1\n",
      "may     1\n",
      "dec     0\n",
      "Name: month, dtype: int64\n",
      "_________________________\n",
      "Month count of forest fire of class:  B\n",
      "-------------\n",
      "aug    47\n",
      "sep    37\n",
      "jul     9\n",
      "mar     6\n",
      "jun     5\n",
      "feb     2\n",
      "apr     1\n",
      "oct     0\n",
      "nov     0\n",
      "may     0\n",
      "jan     0\n",
      "dec     0\n",
      "Name: month, dtype: int64\n",
      "_________________________\n",
      "Month count of forest fire of class:  C\n",
      "-------------\n",
      "sep    48\n",
      "aug    38\n",
      "mar    13\n",
      "dec     9\n",
      "jul     7\n",
      "feb     7\n",
      "oct     4\n",
      "jun     2\n",
      "apr     2\n",
      "may     1\n",
      "nov     0\n",
      "jan     0\n",
      "Name: month, dtype: int64\n",
      "_________________________\n",
      "Month count of forest fire of class:  D\n",
      "-------------\n",
      "aug    9\n",
      "sep    8\n",
      "oct    1\n",
      "jun    1\n",
      "jul    1\n",
      "feb    1\n",
      "apr    1\n",
      "nov    0\n",
      "may    0\n",
      "mar    0\n",
      "jan    0\n",
      "dec    0\n",
      "Name: month, dtype: int64\n",
      "_________________________\n",
      "Month count of forest fire of class:  E\n",
      "-------------\n",
      "sep    3\n",
      "aug    3\n",
      "jul    1\n",
      "oct    0\n",
      "nov    0\n",
      "may    0\n",
      "mar    0\n",
      "jun    0\n",
      "jan    0\n",
      "feb    0\n",
      "dec    0\n",
      "apr    0\n",
      "Name: month, dtype: int64\n",
      "_________________________\n",
      "Month count of forest fire of class:  F\n",
      "-------------\n",
      "sep    1\n",
      "aug    1\n",
      "oct    0\n",
      "nov    0\n",
      "may    0\n",
      "mar    0\n",
      "jun    0\n",
      "jul    0\n",
      "jan    0\n",
      "feb    0\n",
      "dec    0\n",
      "apr    0\n",
      "Name: month, dtype: int64\n",
      "_________________________\n"
     ]
    },
    {
     "data": {
      "image/png": "[encoded data removed]",
      "text/plain": [
       "<Figure size 1296x1296 with 6 Axes>"
      ]
     },
     "metadata": {
      "needs_background": "light"
     },
     "output_type": "display_data"
    }
   ],
   "source": [
    "plt.figure(figsize=(18,18))\n",
    "for i in range(0,6):\n",
    "    plt.subplot(3,3,i+1)\n",
    "    print(\"Month count of forest fire of class: \", fire_classes[i])\n",
    "    print(\"-------------\")\n",
    "    print(df.loc[df['fire_class_index'] == i,'month'].value_counts())\n",
    "    sns.countplot(x=df.loc[df['fire_class_index'] == i,'month']).set_title(\"Monthly Count for Class {} Fire\".format(fire_classes[i]))\n",
    "    print(\"_________________________\")\n",
    "plt.show()"
   ]
  },
  {
   "cell_type": "markdown",
   "metadata": {},
   "source": [
    "We see that most of the fires were in August and September months and very few in January, May, and November."
   ]
  },
  {
   "cell_type": "code",
   "execution_count": 15,
   "metadata": {},
   "outputs": [
    {
     "data": {
      "text/plain": [
       "Text(0.5, 1.0, 'Burnt area in different regions of the park with fire class')"
      ]
     },
     "execution_count": 15,
     "metadata": {},
     "output_type": "execute_result"
    },
    {
     "data": {
      "image/png": "[encoded data removed]",
      "text/plain": [
       "<Figure size 720x432 with 2 Axes>"
      ]
     },
     "metadata": {
      "needs_background": "light"
     },
     "output_type": "display_data"
    }
   ],
   "source": [
    "df.plot(kind = 'scatter', x = 'X', y='Y', c = df['fire_class_index'], s = 20*df['area'], figsize = (10,6), cmap=plt.cm.get_cmap('Spectral', 6), alpha= 0.3)\n",
    "plt.xlabel('X cordinates of park',fontsize=15)\n",
    "plt.ylabel('Y cordinates of park',fontsize=15)\n",
    "plt.title('Burnt area in different regions of the park with fire class',color='blue',fontsize=18)"
   ]
  },
  {
   "cell_type": "markdown",
   "metadata": {},
   "source": [
    "We see that most big fires are in close proximity to one another."
   ]
  },
  {
   "cell_type": "code",
   "execution_count": 16,
   "metadata": {},
   "outputs": [
    {
     "data": {
      "text/html": [
       "<div>\n",
       "<style scoped>\n",
       "    .dataframe tbody tr th:only-of-type {\n",
       "        vertical-align: middle;\n",
       "    }\n",
       "\n",
       "    .dataframe tbody tr th {\n",
       "        vertical-align: top;\n",
       "    }\n",
       "\n",
       "    .dataframe thead th {\n",
       "        text-align: right;\n",
       "    }\n",
       "</style>\n",
       "<table border=\"1\" class=\"dataframe\">\n",
       "  <thead>\n",
       "    <tr style=\"text-align: right;\">\n",
       "      <th></th>\n",
       "      <th>X</th>\n",
       "      <th>Y</th>\n",
       "      <th>month</th>\n",
       "      <th>day</th>\n",
       "      <th>FFMC</th>\n",
       "      <th>DMC</th>\n",
       "      <th>DC</th>\n",
       "      <th>ISI</th>\n",
       "      <th>temp</th>\n",
       "      <th>RH</th>\n",
       "      <th>wind</th>\n",
       "      <th>rain</th>\n",
       "      <th>area</th>\n",
       "      <th>area_acres</th>\n",
       "      <th>fire_class_index</th>\n",
       "      <th>month_cat</th>\n",
       "      <th>day_cat</th>\n",
       "      <th>area_bin</th>\n",
       "    </tr>\n",
       "  </thead>\n",
       "  <tbody>\n",
       "    <tr>\n",
       "      <th>512</th>\n",
       "      <td>4</td>\n",
       "      <td>3</td>\n",
       "      <td>aug</td>\n",
       "      <td>sun</td>\n",
       "      <td>81.6</td>\n",
       "      <td>56.7</td>\n",
       "      <td>665.6</td>\n",
       "      <td>1.9</td>\n",
       "      <td>27.8</td>\n",
       "      <td>32</td>\n",
       "      <td>2.7</td>\n",
       "      <td>0.0</td>\n",
       "      <td>6.44</td>\n",
       "      <td>15.913562</td>\n",
       "      <td>2</td>\n",
       "      <td>1</td>\n",
       "      <td>3</td>\n",
       "      <td>1</td>\n",
       "    </tr>\n",
       "    <tr>\n",
       "      <th>513</th>\n",
       "      <td>2</td>\n",
       "      <td>4</td>\n",
       "      <td>aug</td>\n",
       "      <td>sun</td>\n",
       "      <td>81.6</td>\n",
       "      <td>56.7</td>\n",
       "      <td>665.6</td>\n",
       "      <td>1.9</td>\n",
       "      <td>21.9</td>\n",
       "      <td>71</td>\n",
       "      <td>5.8</td>\n",
       "      <td>0.0</td>\n",
       "      <td>54.29</td>\n",
       "      <td>134.153304</td>\n",
       "      <td>3</td>\n",
       "      <td>1</td>\n",
       "      <td>3</td>\n",
       "      <td>1</td>\n",
       "    </tr>\n",
       "    <tr>\n",
       "      <th>514</th>\n",
       "      <td>7</td>\n",
       "      <td>4</td>\n",
       "      <td>aug</td>\n",
       "      <td>sun</td>\n",
       "      <td>81.6</td>\n",
       "      <td>56.7</td>\n",
       "      <td>665.6</td>\n",
       "      <td>1.9</td>\n",
       "      <td>21.2</td>\n",
       "      <td>70</td>\n",
       "      <td>6.7</td>\n",
       "      <td>0.0</td>\n",
       "      <td>11.16</td>\n",
       "      <td>27.576918</td>\n",
       "      <td>2</td>\n",
       "      <td>1</td>\n",
       "      <td>3</td>\n",
       "      <td>1</td>\n",
       "    </tr>\n",
       "    <tr>\n",
       "      <th>515</th>\n",
       "      <td>1</td>\n",
       "      <td>4</td>\n",
       "      <td>aug</td>\n",
       "      <td>sat</td>\n",
       "      <td>94.4</td>\n",
       "      <td>146.0</td>\n",
       "      <td>614.7</td>\n",
       "      <td>11.3</td>\n",
       "      <td>25.6</td>\n",
       "      <td>42</td>\n",
       "      <td>4.0</td>\n",
       "      <td>0.0</td>\n",
       "      <td>0.00</td>\n",
       "      <td>0.000000</td>\n",
       "      <td>0</td>\n",
       "      <td>1</td>\n",
       "      <td>2</td>\n",
       "      <td>0</td>\n",
       "    </tr>\n",
       "    <tr>\n",
       "      <th>516</th>\n",
       "      <td>6</td>\n",
       "      <td>3</td>\n",
       "      <td>nov</td>\n",
       "      <td>tue</td>\n",
       "      <td>79.5</td>\n",
       "      <td>3.0</td>\n",
       "      <td>106.7</td>\n",
       "      <td>1.1</td>\n",
       "      <td>11.8</td>\n",
       "      <td>31</td>\n",
       "      <td>4.5</td>\n",
       "      <td>0.0</td>\n",
       "      <td>0.00</td>\n",
       "      <td>0.000000</td>\n",
       "      <td>0</td>\n",
       "      <td>9</td>\n",
       "      <td>5</td>\n",
       "      <td>0</td>\n",
       "    </tr>\n",
       "  </tbody>\n",
       "</table>\n",
       "</div>"
      ],
      "text/plain": [
       "     X  Y month  day  FFMC    DMC     DC   ISI  temp  RH  wind  rain   area  \\\n",
       "512  4  3   aug  sun  81.6   56.7  665.6   1.9  27.8  32   2.7   0.0   6.44   \n",
       "513  2  4   aug  sun  81.6   56.7  665.6   1.9  21.9  71   5.8   0.0  54.29   \n",
       "514  7  4   aug  sun  81.6   56.7  665.6   1.9  21.2  70   6.7   0.0  11.16   \n",
       "515  1  4   aug  sat  94.4  146.0  614.7  11.3  25.6  42   4.0   0.0   0.00   \n",
       "516  6  3   nov  tue  79.5    3.0  106.7   1.1  11.8  31   4.5   0.0   0.00   \n",
       "\n",
       "     area_acres  fire_class_index  month_cat  day_cat  area_bin  \n",
       "512   15.913562                 2          1        3         1  \n",
       "513  134.153304                 3          1        3         1  \n",
       "514   27.576918                 2          1        3         1  \n",
       "515    0.000000                 0          1        2         0  \n",
       "516    0.000000                 0          9        5         0  "
      ]
     },
     "execution_count": 16,
     "metadata": {},
     "output_type": "execute_result"
    }
   ],
   "source": [
    "df.tail()"
   ]
  },
  {
   "cell_type": "code",
   "execution_count": 17,
   "metadata": {},
   "outputs": [],
   "source": [
    "#prepare the data, split into train and test\n",
    "X = df.drop([\"area\",\"day\",\"month\",\"area_acres\",\"fire_class_index\", \"area_bin\"],axis = 1)# input data\n",
    "y = df[\"area_bin\"] #target data\n",
    "X_train,X_test,y_train,y_test = train_test_split(X,y,test_size = 0.3,random_state = 0,shuffle=True)\n",
    "\n",
    "sc=StandardScaler()\n",
    "X_train_std=sc.fit_transform(X_train)\n",
    "X_test_std=sc.transform(X_test)\n",
    "class_names = np.unique(y_train)"
   ]
  },
  {
   "cell_type": "markdown",
   "metadata": {},
   "source": [
    "### Dimensioanlity Reduction"
   ]
  },
  {
   "cell_type": "markdown",
   "metadata": {},
   "source": [
    "Lets perform dimensionality reduction to see if we can find any immediate clusters."
   ]
  },
  {
   "cell_type": "markdown",
   "metadata": {},
   "source": [
    "We are coloring our observations based on our categorical variable area_bin. But with only 2 classes, LDA does not seem to work."
   ]
  },
  {
   "cell_type": "code",
   "execution_count": 18,
   "metadata": {},
   "outputs": [],
   "source": [
    "# #LDA\n",
    "# from sklearn.discriminant_analysis import LinearDiscriminantAnalysis as LDA\n",
    "# lda = LDA(n_components=2)\n",
    "# X_lda = lda.fit_transform(X_train_std, y_train)\n",
    "\n",
    "# fig = plt.figure(figsize = (8.1,5),dpi=100)\n",
    "# ax = fig.add_subplot(1,1,1) \n",
    "# ax.set_xlabel('LD1', fontsize = 15)\n",
    "# ax.set_ylabel('LD2', fontsize = 15)\n",
    "# for target in (class_names):\n",
    "#     inn = (y_train == target).ravel()\n",
    "#     ax.scatter(X_lda[inn,0],X_lda[inn,1],s=30)\n",
    "# ax.legend(class_names)\n",
    "# plt.show()"
   ]
  },
  {
   "cell_type": "code",
   "execution_count": 19,
   "metadata": {},
   "outputs": [
    {
     "data": {
      "image/png": "[encoded data removed]",
      "text/plain": [
       "<Figure size 810x500 with 1 Axes>"
      ]
     },
     "metadata": {
      "needs_background": "light"
     },
     "output_type": "display_data"
    }
   ],
   "source": [
    "#PCA\n",
    "\n",
    "pca = PCA(n_components=2)\n",
    "X_pca = pca.fit_transform(X_train_std)\n",
    "class_names = np.unique(y_train)\n",
    "\n",
    "fig = plt.figure(figsize = (8.1,5),dpi=100)\n",
    "ax = fig.add_subplot(1,1,1) \n",
    "ax.set_xlabel('Principal Component 1', fontsize = 15)\n",
    "ax.set_ylabel('Principal Component 2', fontsize = 15)\n",
    "targets = ['edm','post-rock','jazz','pop','r&b']\n",
    "for target in (class_names):\n",
    "    inn = (y_train == target).ravel()\n",
    "    ax.scatter(X_pca[inn,0],X_pca[inn,1],s=30)\n",
    "ax.legend(class_names)\n",
    "plt.show()"
   ]
  },
  {
   "cell_type": "code",
   "execution_count": 20,
   "metadata": {},
   "outputs": [
    {
     "data": {
      "image/png": "[encoded data removed]",
      "text/plain": [
       "<Figure size 1200x500 with 2 Axes>"
      ]
     },
     "metadata": {
      "needs_background": "light"
     },
     "output_type": "display_data"
    }
   ],
   "source": [
    "#view the strength of each feature onto the principal components\n",
    "featuresAll = ['X','Y','FFMC','DMC','DC','ISI','temp','RH','wind','rain','month_cat','day_cat']\n",
    "pca = PCA(n_components=6)\n",
    "x_new = pca.fit_transform(X_train_std)\n",
    "fig= plt.figure(figsize=(12,5),dpi=100)\n",
    "ax = sns.heatmap(pca.components_,annot=True,cmap='coolwarm',\n",
    "                 yticklabels=[ \"PCA\"+str(x) for x in range(1,pca.n_components_+1)],\n",
    "                 xticklabels=list(featuresAll),vmin=-1,vmax=1)\n",
    "plt.yticks(rotation=0);\n",
    "ax.axis('equal');plt.show()"
   ]
  },
  {
   "cell_type": "markdown",
   "metadata": {},
   "source": [
    "Looks like there is not any immediate clusters we can see."
   ]
  },
  {
   "cell_type": "markdown",
   "metadata": {},
   "source": [
    "### Regression Analysis"
   ]
  },
  {
   "cell_type": "markdown",
   "metadata": {},
   "source": [
    "### We first attempt to fit a SVM regression on our dataset."
   ]
  },
  {
   "cell_type": "code",
   "execution_count": 21,
   "metadata": {},
   "outputs": [],
   "source": [
    "df2 = df.copy()\n",
    "\n",
    "y = df2[['month']]\n",
    "le = LabelEncoder()\n",
    "le.fit(y)\n",
    "classes = le.classes_\n",
    "y_enc = le.transform(y)\n",
    "df2['month'] = le.transform(y)\n",
    "\n",
    "y = df2[['day']]\n",
    "le = LabelEncoder()\n",
    "le.fit(y)\n",
    "classes = le.classes_\n",
    "y_enc = le.transform(y)\n",
    "df2['day'] = le.transform(y)\n",
    "\n",
    "df2[\"month\"] = df2[\"month\"].astype('category')\n",
    "df2[\"day\"] = df2[\"day\"].astype('category')"
   ]
  },
  {
   "cell_type": "markdown",
   "metadata": {},
   "source": [
    "### Though PCA analysis recommends [temp, FFMC, DC] as the best features based on high variance on PCA1, mean square error is lower(though still mediocore) with [rain, month, wind] features. This is true for all our regression algorithms.  "
   ]
  },
  {
   "cell_type": "code",
   "execution_count": 22,
   "metadata": {},
   "outputs": [
    {
     "name": "stdout",
     "output_type": "stream",
     "text": [
      "8430.580903220654\n"
     ]
    }
   ],
   "source": [
    "#features = [\"temp\", \"FFMC\", \"DC\"]\n",
    "features = [\"rain\", \"month\", \"wind\"]\n",
    "\n",
    "X = df2[features]\n",
    "y = df2['area']\n",
    "\n",
    "X_train, X_test, y_train, y_test = train_test_split(X, y, test_size = 0.3, random_state = 0, shuffle=True)\n",
    "\n",
    "sc = StandardScaler()\n",
    "X_train_std = sc.fit_transform(X_train)\n",
    "X_test_std = sc.transform(X_test)\n",
    "class_names = np.unique(y_train)\n",
    "\n",
    "svm_poly_reg = SVR(kernel=\"poly\", degree=2, C=100, epsilon=4)\n",
    "svm_poly_reg.fit(X_train, y_train)\n",
    "\n",
    "y_pred = svm_poly_reg.predict(X_test)\n",
    "\n",
    "print(mean_squared_error(y_test, y_pred))"
   ]
  },
  {
   "cell_type": "code",
   "execution_count": 23,
   "metadata": {},
   "outputs": [
    {
     "name": "stdout",
     "output_type": "stream",
     "text": [
      "SVR(C=10, epsilon=10, gamma=0.1, kernel='poly')\n",
      "-0.008058539590080516\n"
     ]
    }
   ],
   "source": [
    "from sklearn.svm import SVR\n",
    "from sklearn.metrics import r2_score\n",
    "\n",
    "gridSVR = GridSearchCV(estimator=SVR(kernel='poly'), param_grid={\n",
    "            'C': [0.1, 10],\n",
    "            'epsilon': [0.005, 1, 5, 10],\n",
    "            'gamma': [0.1, 1, 3]\n",
    "           }, cv=3, scoring='neg_mean_squared_error', verbose=0, n_jobs=-1)\n",
    "\n",
    "gridSVR.fit(X_train_std, y_train);\n",
    "print(gridSVR.best_estimator_)\n",
    "\n",
    "y_pred = gridSVR.predict(X_test)\n",
    "print(r2_score(y_test,y_pred))"
   ]
  },
  {
   "cell_type": "code",
   "execution_count": 24,
   "metadata": {},
   "outputs": [
    {
     "name": "stdout",
     "output_type": "stream",
     "text": [
      "-0.02387887798420607\n",
      "8425.110619514378\n"
     ]
    }
   ],
   "source": [
    "#features = [\"temp\", \"FFMC\", \"DC\"]\n",
    "features = [\"rain\", \"month\", \"wind\"]\n",
    "\n",
    "X = df2[features]\n",
    "y = df2['area']\n",
    "\n",
    "X_train, X_test, y_train, y_test = train_test_split(X, y, test_size=0.3, random_state=0, shuffle=True)\n",
    "\n",
    "sc = StandardScaler()\n",
    "X_train_std = sc.fit_transform(X_train)\n",
    "X_test_std = sc.fit_transform(X_test)\n",
    "\n",
    "xgb = XGBRegressor()\n",
    "xgb.fit(X_train_std, y_train)\n",
    "\n",
    "y_pred = xgb.predict(X_test_std)\n",
    "\n",
    "print(r2_score(y_test, y_pred))\n",
    "print(mean_squared_error(y_test, y_pred))"
   ]
  },
  {
   "cell_type": "code",
   "execution_count": 25,
   "metadata": {},
   "outputs": [
    {
     "name": "stdout",
     "output_type": "stream",
     "text": [
      "Fitting 2 folds for each of 9 candidates, totalling 18 fits\n",
      "[21:28:04] WARNING: /Users/travis/build/dmlc/xgboost/src/objective/regression_obj.cu:170: reg:linear is now deprecated in favor of reg:squarederror.\n",
      "[21:28:04] WARNING: /Users/travis/build/dmlc/xgboost/src/learner.cc:541: \n",
      "Parameters: { silent } might not be used.\n",
      "\n",
      "  This may not be accurate due to some parameters are only used in language bindings but\n",
      "  passed down to XGBoost core.  Or some parameters are not used but slip through this\n",
      "  verification. Please open an issue if you find above cases.\n",
      "\n",
      "\n",
      "-0.023968402470182726\n",
      "8425.847282525725\n"
     ]
    }
   ],
   "source": [
    "#features = [\"temp\", \"FFMC\", \"DC\"]\n",
    "features = [\"rain\", \"month\", \"wind\"]\n",
    "\n",
    "X = df2[features]\n",
    "y = df2['area']\n",
    "\n",
    "X_train, X_test, y_train, y_test = train_test_split(X, y, test_size = 0.3, random_state = 0, shuffle=True)\n",
    "\n",
    "sc = StandardScaler()\n",
    "X_train_std = sc.fit_transform(X_train)\n",
    "X_test_std = sc.fit_transform(X_test)\n",
    "\n",
    "xgb = XGBRegressor()\n",
    "parameters = {'nthread':[4],\n",
    "              'objective':['reg:linear'],\n",
    "              'learning_rate': [.03, 0.05, .07],\n",
    "              'max_depth': [5, 6, 7],\n",
    "              'min_child_weight': [4],\n",
    "              'silent': [1],\n",
    "              'subsample': [0.7],\n",
    "              'colsample_bytree': [0.7],\n",
    "              'n_estimators': [500]}\n",
    "\n",
    "xgb_grid = GridSearchCV(xgb, parameters, cv = 2, scoring='neg_mean_squared_error', n_jobs = 5, verbose=True)\n",
    "xgb_grid.fit(X_train_std, y_train)\n",
    "\n",
    "y_pred = xgb_grid.predict(X_test_std)\n",
    "\n",
    "print(r2_score(y_test, y_pred))\n",
    "print(mean_squared_error(y_test, y_pred))"
   ]
  },
  {
   "cell_type": "markdown",
   "metadata": {},
   "source": [
    "## Classifiers using all the variables we have and area_bin as our Y variable"
   ]
  },
  {
   "cell_type": "code",
   "execution_count": 26,
   "metadata": {},
   "outputs": [],
   "source": [
    "#prepare the data, split into train and test\n",
    "X = df.drop([\"area\",\"day\",\"month\",\"area_acres\",\"fire_class_index\", \"area_bin\"],axis = 1)# input data\n",
    "y = df[\"area_bin\"] #target data\n",
    "X_train,X_test,y_train,y_test = train_test_split(X,y,test_size = 0.3,random_state = 0,shuffle=True)\n",
    "\n",
    "sc=StandardScaler()\n",
    "X_train_std=sc.fit_transform(X_train)\n",
    "X_test_std=sc.transform(X_test)\n",
    "class_names = np.unique(y_train)"
   ]
  },
  {
   "cell_type": "code",
   "execution_count": 27,
   "metadata": {},
   "outputs": [
    {
     "name": "stdout",
     "output_type": "stream",
     "text": [
      "Fitting 10 folds for each of 30 candidates, totalling 300 fits\n",
      "Best paramters: {'n_neighbors': 28})\n",
      "Validation accuracy:0.500\n",
      "28\n"
     ]
    }
   ],
   "source": [
    "#knn\n",
    "param_grid = dict(n_neighbors=list(range(1, 31)))\n",
    "clf = KNeighborsClassifier()\n",
    "tree_cv = GridSearchCV(estimator=clf, param_grid = param_grid, scoring=\"accuracy\", n_jobs=-1, verbose=1, cv=10)\n",
    "tree_cv.fit(X_train_std, y_train)\n",
    "best_params = tree_cv.best_params_\n",
    "print(f\"Best paramters: {best_params})\")\n",
    "#make confusion matrix\n",
    "clf = KNeighborsClassifier(**best_params)\n",
    "clf.fit(X_train_std, y_train)\n",
    "y_pred = clf.predict(X_test_std)\n",
    "#\n",
    "acc_k = accuracy_score(y_test, y_pred)\n",
    "cm_k = confusion_matrix(y_test, y_pred)\n",
    "print(f\"Validation accuracy:%3.3f\"%acc_k)\n",
    "k_cv = best_params['n_neighbors']\n",
    "print(k_cv)\n"
   ]
  },
  {
   "cell_type": "code",
   "execution_count": 28,
   "metadata": {},
   "outputs": [
    {
     "name": "stdout",
     "output_type": "stream",
     "text": [
      "Fitting 10 folds for each of 8 candidates, totalling 80 fits\n",
      "Best paramters: {'criterion': 'gini', 'max_depth': 3, 'min_samples_split': 10})\n",
      "Validation accuracy:0.583\n"
     ]
    }
   ],
   "source": [
    "#decision tree\n",
    "#my best\n",
    "#{'criterion': 'gini', 'max_depth': 8, 'min_samples_split': 2, 'n_estimators': 200} acc=0.630\n",
    "param_grid = {\n",
    "    \"criterion\":([\"gini\",'entropy']),\n",
    "    \"max_depth\":([2,3]), \n",
    "    \"min_samples_split\":([10,20])\n",
    "}\n",
    "#Decision tree classifier\n",
    "clf = DecisionTreeClassifier(random_state=0,criterion=\"gini\")\n",
    "tree_cv = GridSearchCV(estimator=clf, param_grid = param_grid, scoring=\"accuracy\", n_jobs=-1, verbose=1, cv=10)\n",
    "tree_cv.fit(X_train, y_train)\n",
    "best_params = tree_cv.best_params_\n",
    "print(f\"Best paramters: {best_params})\")\n",
    "#make confusion matrix\n",
    "clf_dt = DecisionTreeClassifier(**best_params,random_state=0)\n",
    "clf_dt.fit(X_train, y_train)\n",
    "y_pred = clf_dt.predict(X_test)\n",
    "#\n",
    "acc_dt = accuracy_score(y_test, y_pred)\n",
    "cm_dt = confusion_matrix(y_test, y_pred)\n",
    "print(f\"Validation accuracy:%3.3f\"%acc_dt)"
   ]
  },
  {
   "cell_type": "code",
   "execution_count": 29,
   "metadata": {},
   "outputs": [],
   "source": [
    "features = ['X','Y','FFMC','DMC','DC','ISI','temp','RH','wind','rain','month_cat','day_cat']"
   ]
  },
  {
   "cell_type": "code",
   "execution_count": 30,
   "metadata": {},
   "outputs": [
    {
     "data": {
      "image/png": "[encoded data removed]",
      "text/plain": [
       "<Figure size 1000x500 with 1 Axes>"
      ]
     },
     "metadata": {
      "needs_background": "light"
     },
     "output_type": "display_data"
    }
   ],
   "source": [
    "#decision tree \n",
    "fig, axes = plt.subplots(nrows = 1,ncols = 1,figsize = (10,5), dpi=100)\n",
    "tree.plot_tree(clf_dt,\n",
    "               feature_names = features, \n",
    "               #class_names=class_names,\n",
    "               filled = True,rounded=True,impurity = False,proportion = False);\n",
    "plt.show()"
   ]
  },
  {
   "cell_type": "code",
   "execution_count": 31,
   "metadata": {},
   "outputs": [
    {
     "data": {
      "image/png": "[encoded data removed]",
      "text/plain": [
       "<Figure size 810x300 with 1 Axes>"
      ]
     },
     "metadata": {
      "needs_background": "light"
     },
     "output_type": "display_data"
    }
   ],
   "source": [
    "#plot feature importance barplot\n",
    "feature_imp = pd.Series(clf_dt.feature_importances_,index=features).sort_values(ascending=False)\n",
    "fig, ax = plt.subplots(figsize=(8.1, 3),dpi= 100)\n",
    "sns.barplot(x=feature_imp, y=feature_imp.index)\n",
    "plt.xlabel('Feature Importance Score')\n",
    "plt.ylabel('Features')\n",
    "plt.title(\"Visualizing Important Features\")\n",
    "plt.show()"
   ]
  },
  {
   "cell_type": "code",
   "execution_count": 32,
   "metadata": {},
   "outputs": [],
   "source": [
    "featuresAll = ['X','Y','FFMC','DMC','DC','ISI','temp','RH','wind','rain','month_cat','day_cat']"
   ]
  },
  {
   "cell_type": "code",
   "execution_count": 33,
   "metadata": {},
   "outputs": [
    {
     "name": "stdout",
     "output_type": "stream",
     "text": [
      "     X  Y  FFMC    DMC     DC   ISI  temp  RH  wind  rain  month_cat  day_cat\n",
      "213  7  3  87.6   52.2  103.8   5.0  11.0  46   5.8   0.0          7        1\n",
      "435  2  5  90.8   84.7  376.6   5.6  23.8  51   1.8   0.0          5        2\n",
      "343  8  6  91.5  130.1  807.1   7.5  15.9  51   4.5   0.0         11        1\n",
      "230  4  4  92.9  133.3  699.6   9.2  26.4  21   4.5   0.0         11        6\n",
      "171  8  6  85.6   90.4  609.6   6.6  17.4  50   4.0   0.0          1        6\n",
      "..  .. ..   ...    ...    ...   ...   ...  ..   ...   ...        ...      ...\n",
      "26   7  4  92.4  117.9  668.0  12.2  19.0  34   5.8   0.0         11        0\n",
      "208  6  5  92.4  117.9  668.0  12.2  19.6  33   6.3   0.0         11        0\n",
      "4    8  6  89.3   51.3  102.2   9.6  11.4  99   1.8   0.0          7        3\n",
      "331  7  4  91.2  124.4  795.3   8.5  21.5  28   4.5   0.0         11        2\n",
      "196  6  5  81.5    9.1   55.2   2.7   5.8  54   5.8   0.0          0        4\n",
      "\n",
      "[156 rows x 12 columns]\n"
     ]
    }
   ],
   "source": [
    "print(X_test)"
   ]
  },
  {
   "cell_type": "code",
   "execution_count": 34,
   "metadata": {},
   "outputs": [
    {
     "name": "stdout",
     "output_type": "stream",
     "text": [
      "0.4358974358974359\n"
     ]
    }
   ],
   "source": [
    "#Naive Bayes\n",
    "gnb = naive_bayes.GaussianNB()\n",
    "gnb.fit(X_train, y_train)\n",
    "y_pred = gnb.predict(X_test)\n",
    "cm = confusion_matrix(y_test, y_pred)\n",
    "acc = accuracy_score(y_test, y_pred)\n",
    "print(acc)"
   ]
  },
  {
   "cell_type": "code",
   "execution_count": 35,
   "metadata": {},
   "outputs": [
    {
     "name": "stdout",
     "output_type": "stream",
     "text": [
      "Fitting 10 folds for each of 48 candidates, totalling 480 fits\n",
      "Best paramters: {'bootstrap': True, 'max_depth': 4, 'max_features': 2, 'min_samples_split': 10, 'n_estimators': 100})\n",
      "Validation accuracy:0.558\n"
     ]
    }
   ],
   "source": [
    "#random forest\n",
    "#my best\n",
    "#{'bootstrap': True, 'max_depth': 4, 'max_features': 2, 'min_samples_split': 5, 'n_estimators': 200}) %0.933\n",
    "param_grid = {\n",
    "    \"n_estimators\": [100,200,500],\n",
    "    \"max_depth\":([4,5]),\n",
    "    \"min_samples_split\":([5,10]),\n",
    "    \"bootstrap\":(True,False),\n",
    "    \"max_features\":[2,4]\n",
    "}\n",
    "#Random forest classifier\n",
    "clf = RandomForestClassifier(random_state=0,criterion=\"gini\")\n",
    "#tree_cv = RandomizedSearchCV(estimator=clf, param_distributions=param_grid, n_iter = 40, scoring=\"accuracy\", cv = 10, verbose=1, random_state=1, n_jobs=-1)\n",
    "tree_cv = GridSearchCV(estimator=clf, param_grid = param_grid, scoring=\"accuracy\", n_jobs=-1, verbose=1, cv=10)\n",
    "tree_cv.fit(X_train, y_train)\n",
    "best_params = tree_cv.best_params_\n",
    "print(f\"Best paramters: {best_params})\")\n",
    "#make confusion matrix\n",
    "clf = RandomForestClassifier(**best_params,random_state=0)\n",
    "clf.fit(X_train, y_train)\n",
    "y_pred = clf.predict(X_test)\n",
    "#\n",
    "acc_rf = accuracy_score(y_test, y_pred)\n",
    "cm_rf = confusion_matrix(y_test, y_pred)\n",
    "print(f\"Validation accuracy:%3.3f\"%acc_rf)"
   ]
  },
  {
   "cell_type": "code",
   "execution_count": null,
   "metadata": {},
   "outputs": [],
   "source": []
  },
  {
   "cell_type": "markdown",
   "metadata": {},
   "source": [
    "## Classifiers using selective features and area_bin as our Y variable."
   ]
  },
  {
   "cell_type": "code",
   "execution_count": 36,
   "metadata": {},
   "outputs": [
    {
     "name": "stdout",
     "output_type": "stream",
     "text": [
      "0.6153846153846154 ('X', 'DC', 'ISI')\n",
      "0.6346153846153846 ('X', 'DC', 'RH')\n",
      "0.6089743589743589 ('X', 'DC', 'wind')\n",
      "0.6089743589743589 ('X', 'ISI', 'month_cat')\n",
      "0.6025641025641025 ('FFMC', 'DC', 'temp')\n",
      "0.6025641025641025 ('FFMC', 'RH', 'wind')\n",
      "0.6346153846153846 ('DMC', 'DC', 'RH')\n",
      "0.6089743589743589 ('DMC', 'DC', 'wind')\n",
      "0.6153846153846154 ('DMC', 'DC', 'month_cat')\n",
      "0.6346153846153846 ('DMC', 'DC', 'day_cat')\n",
      "0.6089743589743589 ('DC', 'ISI', 'temp')\n",
      "0.6089743589743589 ('DC', 'ISI', 'RH')\n",
      "0.6282051282051282 ('DC', 'ISI', 'wind')\n",
      "0.6089743589743589 ('DC', 'ISI', 'month_cat')\n",
      "0.6153846153846154 ('DC', 'ISI', 'day_cat')\n",
      "0.6217948717948718 ('DC', 'temp', 'RH')\n",
      "0.6153846153846154 ('DC', 'RH', 'month_cat')\n",
      "0.6153846153846154 ('DC', 'RH', 'day_cat')\n",
      "0.6282051282051282 ('DC', 'month_cat', 'day_cat')\n",
      "0.6282051282051282 ('ISI', 'temp', 'RH')\n"
     ]
    }
   ],
   "source": [
    "#Naive Bayes\n",
    "#Trying different combinations to see which set of variables gives high accuracy\n",
    "from itertools import combinations\n",
    "comb = combinations(featuresAll, 3) \n",
    "\n",
    "for item in comb:\n",
    "    X_threefeat_train = X_train[list(item)]\n",
    "    \n",
    "    \n",
    "    gnb = naive_bayes.GaussianNB()\n",
    "    gnb.fit(X_threefeat_train, y_train)\n",
    "    \n",
    "\n",
    "    X_threefeat_valid = X_test[list(item)]\n",
    "    \n",
    "    y_pred = gnb.predict(X_threefeat_valid)\n",
    "\n",
    "    cm = confusion_matrix(y_test, y_pred)\n",
    "    acc = accuracy_score(y_test, y_pred)\n",
    "    \n",
    "    \n",
    "    if acc > 0.60:\n",
    "        print(acc, item)"
   ]
  },
  {
   "cell_type": "markdown",
   "metadata": {},
   "source": [
    "It can be seen that ('FFMC', 'DC', 'temp') give a high accuracy. Plus looking at the principal components and the deicision tree's \"importance feature graph\", these three variables stand out. Though they are mildly correlated, they seem to account for signficant explanation in our Y variable."
   ]
  },
  {
   "cell_type": "code",
   "execution_count": 37,
   "metadata": {},
   "outputs": [],
   "source": [
    "X = df[[\"temp\", \"FFMC\",\"DC\"]]\n",
    "y = df[\"area_bin\"] #target data\n",
    "X_train,X_test,y_train,y_test = train_test_split(X,y,test_size = 0.3,random_state = 0,shuffle=True)\n",
    "\n",
    "sc=StandardScaler()\n",
    "X_train_std=sc.fit_transform(X_train)\n",
    "X_test_std=sc.transform(X_test)"
   ]
  },
  {
   "cell_type": "code",
   "execution_count": 38,
   "metadata": {},
   "outputs": [
    {
     "name": "stdout",
     "output_type": "stream",
     "text": [
      "Fitting 10 folds for each of 30 candidates, totalling 300 fits\n",
      "Best paramters: {'n_neighbors': 5})\n",
      "Validation accuracy:0.558\n",
      "5\n"
     ]
    }
   ],
   "source": [
    "#knn\n",
    "param_grid = dict(n_neighbors=list(range(1, 31)))\n",
    "clf = KNeighborsClassifier()\n",
    "tree_cv = GridSearchCV(estimator=clf, param_grid = param_grid, scoring=\"accuracy\", n_jobs=-1, verbose=1, cv=10)\n",
    "tree_cv.fit(X_train_std, y_train)\n",
    "best_params = tree_cv.best_params_\n",
    "print(f\"Best paramters: {best_params})\")\n",
    "#make confusion matrix\n",
    "clf = KNeighborsClassifier(**best_params)\n",
    "clf.fit(X_train, y_train)\n",
    "y_pred = clf.predict(X_test_std)\n",
    "#\n",
    "acc_k = accuracy_score(y_test, y_pred)\n",
    "cm_k = confusion_matrix(y_test, y_pred)\n",
    "print(f\"Validation accuracy:%3.3f\"%acc_k)\n",
    "k_cv = best_params['n_neighbors']\n",
    "print(k_cv)\n"
   ]
  },
  {
   "cell_type": "code",
   "execution_count": 39,
   "metadata": {},
   "outputs": [
    {
     "name": "stdout",
     "output_type": "stream",
     "text": [
      "Fitting 10 folds for each of 8 candidates, totalling 80 fits\n",
      "Best paramters: {'criterion': 'entropy', 'max_depth': 2, 'min_samples_split': 10})\n",
      "Validation accuracy:0.615\n"
     ]
    }
   ],
   "source": [
    "#decision tree\n",
    "#my best\n",
    "#{'criterion': 'gini', 'max_depth': 8, 'min_samples_split': 2, 'n_estimators': 200} acc=0.630\n",
    "param_grid = {\n",
    "    \"criterion\":([\"gini\",'entropy']),\n",
    "    \"max_depth\":([2,3]), \n",
    "    \"min_samples_split\":([10,20])\n",
    "}\n",
    "#Decision tree classifier\n",
    "clf = DecisionTreeClassifier(random_state=0,criterion=\"gini\")\n",
    "tree_cv = GridSearchCV(estimator=clf, param_grid = param_grid, scoring=\"accuracy\", n_jobs=-1, verbose=1, cv=10)\n",
    "tree_cv.fit(X_train, y_train)\n",
    "best_params = tree_cv.best_params_\n",
    "print(f\"Best paramters: {best_params})\")\n",
    "#make confusion matrix\n",
    "clf_dt = DecisionTreeClassifier(**best_params,random_state=0)\n",
    "clf_dt.fit(X_train, y_train)\n",
    "y_pred = clf_dt.predict(X_test)\n",
    "#\n",
    "acc_dt = accuracy_score(y_test, y_pred)\n",
    "cm_dt = confusion_matrix(y_test, y_pred)\n",
    "print(f\"Validation accuracy:%3.3f\"%acc_dt)"
   ]
  },
  {
   "cell_type": "code",
   "execution_count": 40,
   "metadata": {},
   "outputs": [
    {
     "name": "stdout",
     "output_type": "stream",
     "text": [
      "SVC(C=0.9, kernel='poly')\n"
     ]
    }
   ],
   "source": [
    "# SVM\n",
    "from sklearn.svm import SVC  \n",
    "# defining parameter range \n",
    "param_grid = {'C': [0.01,0.02,0.05,0.07,0.08,0.1,0.2,0.5,0.9,1,10,20],               \n",
    "              'kernel': ['linear','poly']}  \n",
    "grid = GridSearchCV(SVC(), param_grid, verbose = 0, cv=3, scoring='accuracy');\n",
    "# fitting the model for grid search \n",
    "grid.fit(X_train_std, y_train);\n",
    "svmBest = grid.best_estimator_\n",
    "C_cv = grid.best_params_['C']\n",
    "CscoreM = grid.cv_results_['mean_test_score']\n",
    "CscoreS = grid.cv_results_['std_test_score']\n",
    "svmBest = grid.best_estimator_\n",
    "print(grid.best_estimator_) "
   ]
  },
  {
   "cell_type": "code",
   "execution_count": 41,
   "metadata": {},
   "outputs": [
    {
     "name": "stdout",
     "output_type": "stream",
     "text": [
      "Accuracy is 0.6474358974358975\n"
     ]
    },
    {
     "data": {
      "image/png": "[encoded data removed]",
      "text/plain": [
       "<Figure size 500x500 with 2 Axes>"
      ]
     },
     "metadata": {
      "needs_background": "light"
     },
     "output_type": "display_data"
    }
   ],
   "source": [
    "y_pred = svmBest.predict(X_test_std)\n",
    "cm = confusion_matrix(y_test, y_pred)\n",
    "acc = accuracy_score(y_test, y_pred)\n",
    "\n",
    "print('Accuracy is', acc)\n",
    "#plot\n",
    "fig, ax = plt.subplots(figsize=(5, 5),dpi= 100)\n",
    "ax =sns.heatmap(cm,annot = True,cmap = \"inferno\")\n",
    "plt.yticks(rotation=0)\n",
    "plt.title('accuracy = %2.2f'%acc)\n",
    "plt.xlabel('true label')\n",
    "plt.ylabel('predicted label')\n",
    "ax.axis('equal')\n",
    "#ax.set_xticklabels([''] )\n",
    "#ax.set_yticklabels([''] )\n",
    "plt.show();\n"
   ]
  },
  {
   "cell_type": "code",
   "execution_count": 42,
   "metadata": {},
   "outputs": [
    {
     "name": "stdout",
     "output_type": "stream",
     "text": [
      "Fitting 10 folds for each of 48 candidates, totalling 480 fits\n",
      "Best paramters: {'bootstrap': True, 'max_depth': 5, 'max_features': 2, 'min_samples_split': 10, 'n_estimators': 200})\n",
      "Validation accuracy:0.551\n"
     ]
    }
   ],
   "source": [
    "#random forest\n",
    "#my best\n",
    "#{'bootstrap': True, 'max_depth': 4, 'max_features': 2, 'min_samples_split': 5, 'n_estimators': 200}) %0.933\n",
    "param_grid = {\n",
    "    \"n_estimators\": [100,200,500],\n",
    "    \"max_depth\":([4,5]),\n",
    "    \"min_samples_split\":([5,10]),\n",
    "    \"bootstrap\":(True,False),\n",
    "    \"max_features\":[2,4]\n",
    "}\n",
    "#Random forest classifier\n",
    "clf = RandomForestClassifier(random_state=0,criterion=\"gini\")\n",
    "#tree_cv = RandomizedSearchCV(estimator=clf, param_distributions=param_grid, n_iter = 40, scoring=\"accuracy\", cv = 10, verbose=1, random_state=1, n_jobs=-1)\n",
    "tree_cv = GridSearchCV(estimator=clf, param_grid = param_grid, scoring=\"accuracy\", n_jobs=-1, verbose=1, cv=10)\n",
    "tree_cv.fit(X_train, y_train)\n",
    "best_params = tree_cv.best_params_\n",
    "print(f\"Best paramters: {best_params})\")\n",
    "#make confusion matrix\n",
    "clf = RandomForestClassifier(**best_params,random_state=0)\n",
    "clf.fit(X_train, y_train)\n",
    "y_pred = clf.predict(X_test)\n",
    "#\n",
    "acc_rf = accuracy_score(y_test, y_pred)\n",
    "cm_rf = confusion_matrix(y_test, y_pred)\n",
    "print(f\"Validation accuracy:%3.3f\"%acc_rf)"
   ]
  },
  {
   "cell_type": "markdown",
   "metadata": {},
   "source": [
    "Though using DecisionTree with area_bin as the Y variable, we get a decent accuracy of 61.5 %, it really does not make sense to be classifying whether an area is 0 or not. Rather using a pre-exisiting specification from National Wildfire Coordinating Group, we categorize areas into 6 categories in the variable fire_class_index."
   ]
  },
  {
   "cell_type": "markdown",
   "metadata": {},
   "source": [
    "### Classifiers using selective features and fire_class_index as our Y variable."
   ]
  },
  {
   "cell_type": "code",
   "execution_count": 43,
   "metadata": {},
   "outputs": [],
   "source": [
    "X = df[[\"temp\", \"FFMC\",\"DC\"]]\n",
    "y = df[\"fire_class_index\"] #target data\n",
    "X_train,X_test,y_train,y_test = train_test_split(X,y,test_size = 0.3,random_state = 0,shuffle=True)\n",
    "\n",
    "sc=StandardScaler()\n",
    "X_train_std=sc.fit_transform(X_train)\n",
    "X_test_std=sc.transform(X_test)"
   ]
  },
  {
   "cell_type": "code",
   "execution_count": 44,
   "metadata": {},
   "outputs": [
    {
     "name": "stdout",
     "output_type": "stream",
     "text": [
      "Fitting 10 folds for each of 30 candidates, totalling 300 fits\n",
      "Best paramters: {'n_neighbors': 29})\n",
      "Validation accuracy:0.442\n",
      "29\n"
     ]
    }
   ],
   "source": [
    "#knn\n",
    "param_grid = dict(n_neighbors=list(range(1, 31)))\n",
    "clf = KNeighborsClassifier()\n",
    "tree_cv = GridSearchCV(estimator=clf, param_grid = param_grid, scoring=\"accuracy\", n_jobs=-1, verbose=1, cv=10)\n",
    "tree_cv.fit(X_train_std, y_train)\n",
    "best_params = tree_cv.best_params_\n",
    "print(f\"Best paramters: {best_params})\")\n",
    "#make confusion matrix\n",
    "clf = KNeighborsClassifier(**best_params)\n",
    "clf.fit(X_train, y_train)\n",
    "y_pred = clf.predict(X_test_std)\n",
    "#\n",
    "acc_k = accuracy_score(y_test, y_pred)\n",
    "cm_k = confusion_matrix(y_test, y_pred)\n",
    "print(f\"Validation accuracy:%3.3f\"%acc_k)\n",
    "k_cv = best_params['n_neighbors']\n",
    "print(k_cv)\n"
   ]
  },
  {
   "cell_type": "code",
   "execution_count": 45,
   "metadata": {},
   "outputs": [
    {
     "name": "stdout",
     "output_type": "stream",
     "text": [
      "Fitting 10 folds for each of 8 candidates, totalling 80 fits\n",
      "Best paramters: {'criterion': 'entropy', 'max_depth': 3, 'min_samples_split': 20})\n",
      "Validation accuracy:0.442\n"
     ]
    }
   ],
   "source": [
    "#decision tree\n",
    "#my best\n",
    "#{'criterion': 'gini', 'max_depth': 8, 'min_samples_split': 2, 'n_estimators': 200} acc=0.630\n",
    "param_grid = {\n",
    "    \"criterion\":([\"gini\",'entropy']),\n",
    "    \"max_depth\":([2,3]), \n",
    "    \"min_samples_split\":([10,20])\n",
    "}\n",
    "#Decision tree classifier\n",
    "clf = DecisionTreeClassifier(random_state=0,criterion=\"gini\")\n",
    "tree_cv = GridSearchCV(estimator=clf, param_grid = param_grid, scoring=\"accuracy\", n_jobs=-1, verbose=1, cv=10)\n",
    "tree_cv.fit(X_train, y_train)\n",
    "best_params = tree_cv.best_params_\n",
    "print(f\"Best paramters: {best_params})\")\n",
    "#make confusion matrix\n",
    "clf_dt = DecisionTreeClassifier(**best_params,random_state=0)\n",
    "clf_dt.fit(X_train, y_train)\n",
    "y_pred = clf_dt.predict(X_test)\n",
    "#\n",
    "acc_dt = accuracy_score(y_test, y_pred)\n",
    "cm_dt = confusion_matrix(y_test, y_pred)\n",
    "print(f\"Validation accuracy:%3.3f\"%acc_dt)"
   ]
  },
  {
   "cell_type": "code",
   "execution_count": 46,
   "metadata": {},
   "outputs": [
    {
     "name": "stdout",
     "output_type": "stream",
     "text": [
      "SVC(C=0.07, kernel='poly')\n"
     ]
    }
   ],
   "source": [
    "# SVM\n",
    "from sklearn.svm import SVC  \n",
    "# defining parameter range \n",
    "param_grid = {'C': [0.01,0.02,0.05,0.07,0.08,0.1,0.2,0.5,0.9,1,10,20],               \n",
    "              'kernel': ['linear','poly']}  \n",
    "grid = GridSearchCV(SVC(), param_grid, verbose = 0, cv=3, scoring='accuracy');\n",
    "# fitting the model for grid search \n",
    "grid.fit(X_train_std, y_train);\n",
    "svmBest = grid.best_estimator_\n",
    "C_cv = grid.best_params_['C']\n",
    "CscoreM = grid.cv_results_['mean_test_score']\n",
    "CscoreS = grid.cv_results_['std_test_score']\n",
    "svmBest = grid.best_estimator_\n",
    "print(grid.best_estimator_) "
   ]
  },
  {
   "cell_type": "code",
   "execution_count": 47,
   "metadata": {},
   "outputs": [
    {
     "name": "stdout",
     "output_type": "stream",
     "text": [
      "Accuracy is 0.42948717948717946\n"
     ]
    },
    {
     "data": {
      "image/png": "[encoded data removed]",
      "text/plain": [
       "<Figure size 500x500 with 2 Axes>"
      ]
     },
     "metadata": {
      "needs_background": "light"
     },
     "output_type": "display_data"
    }
   ],
   "source": [
    "y_pred = svmBest.predict(X_test_std)\n",
    "cm = confusion_matrix(y_test, y_pred)\n",
    "acc = accuracy_score(y_test, y_pred)\n",
    "\n",
    "print('Accuracy is', acc)\n",
    "#plot\n",
    "fig, ax = plt.subplots(figsize=(5, 5),dpi= 100)\n",
    "ax =sns.heatmap(cm,annot = True,cmap = \"inferno\")\n",
    "plt.yticks(rotation=0)\n",
    "plt.title('accuracy = %2.2f'%acc)\n",
    "plt.xlabel('true label')\n",
    "plt.ylabel('predicted label')\n",
    "ax.axis('equal')\n",
    "#ax.set_xticklabels([''] )\n",
    "#ax.set_yticklabels([''] )\n",
    "plt.show();\n"
   ]
  },
  {
   "cell_type": "code",
   "execution_count": 48,
   "metadata": {},
   "outputs": [
    {
     "name": "stdout",
     "output_type": "stream",
     "text": [
      "Fitting 10 folds for each of 48 candidates, totalling 480 fits\n",
      "Best paramters: {'bootstrap': False, 'max_depth': 4, 'max_features': 2, 'min_samples_split': 5, 'n_estimators': 100})\n",
      "Validation accuracy:0.436\n"
     ]
    }
   ],
   "source": [
    "#random forest\n",
    "#my best\n",
    "#{'bootstrap': True, 'max_depth': 4, 'max_features': 2, 'min_samples_split': 5, 'n_estimators': 200}) %0.933\n",
    "param_grid = {\n",
    "    \"n_estimators\": [100,200,500],\n",
    "    \"max_depth\":([4,5]),\n",
    "    \"min_samples_split\":([5,10]),\n",
    "    \"bootstrap\":(True,False),\n",
    "    \"max_features\":[2,4]\n",
    "}\n",
    "#Random forest classifier\n",
    "clf = RandomForestClassifier(random_state=0,criterion=\"gini\")\n",
    "#tree_cv = RandomizedSearchCV(estimator=clf, param_distributions=param_grid, n_iter = 40, scoring=\"accuracy\", cv = 10, verbose=1, random_state=1, n_jobs=-1)\n",
    "tree_cv = GridSearchCV(estimator=clf, param_grid = param_grid, scoring=\"accuracy\", n_jobs=-1, verbose=1, cv=10)\n",
    "tree_cv.fit(X_train, y_train)\n",
    "best_params = tree_cv.best_params_\n",
    "print(f\"Best paramters: {best_params})\")\n",
    "#make confusion matrix\n",
    "clf = RandomForestClassifier(**best_params,random_state=0)\n",
    "clf.fit(X_train, y_train)\n",
    "y_pred = clf.predict(X_test)\n",
    "#\n",
    "acc_rf = accuracy_score(y_test, y_pred)\n",
    "cm_rf = confusion_matrix(y_test, y_pred)\n",
    "print(f\"Validation accuracy:%3.3f\"%acc_rf)"
   ]
  },
  {
   "cell_type": "code",
   "execution_count": 49,
   "metadata": {},
   "outputs": [],
   "source": [
    "### Classifiers based on "
   ]
  },
  {
   "cell_type": "markdown",
   "metadata": {},
   "source": [
    "Our data has a lot of small fires but a lot less big fires. The big fires are not outliers. Instead, they are extreme cases. Our classifier was able to predict nice for the more common cases but for when it comes to predicting more rare cases it struggles. We will use a technic called [oversampling](https://www.pewresearch.org/fact-tank/2016/10/25/oversampling-is-used-to-study-small-groups-not-bias-poll-results/#:~:text=Oversampling%20is%20the%20practice%20of,too%20small%20to%20report%20on.) to make our classifier more adept at classifying more extreme cases. In particular, we used SMOTE algorithm. We followed the following resources to learn more about it\n",
    "- [tutorial link 1 ](https://machinelearningmastery.com/smote-oversampling-for-imbalanced-classification/)\n",
    "- [tutorial link 2](https://towardsdatascience.com/smote-for-imbalanced-datasets-with-python-30bfc211db42)\n",
    "- [documentation](https://imbalanced-learn.org/stable/references/generated/imblearn.over_sampling.SMOTE.html)\n",
    "\n",
    "\n",
    "One problem we ran across was we have 6 classes of forest fires (A,B,C,D,E,F) in our dataset. The number of instances were not enough to oversample over six different classes, thus we had to cut down our classes. This is how we merged two classes:\n",
    "- A,B -> A\n",
    "- C,D -> C\n",
    "- E,F -> E\n",
    "\n",
    "We chose this scheme in merging classes because according to this [scheme](https://www.nwcg.gov/term/glossary/size-class-of-fire?fbclid=IwAR2F58sRg2prymrdkzphAwjPIIvokwD9ZgYqAGRMhcpkPeIhR7UuaiTvdIU), looking at the area range merging two consecutive ones makes the most sense as areas will be closely packed. "
   ]
  },
  {
   "cell_type": "code",
   "execution_count": 50,
   "metadata": {},
   "outputs": [],
   "source": [
    "from imblearn.over_sampling import SMOTE, SMOTENC"
   ]
  },
  {
   "cell_type": "code",
   "execution_count": 51,
   "metadata": {},
   "outputs": [
    {
     "data": {
      "text/html": [
       "<div>\n",
       "<style scoped>\n",
       "    .dataframe tbody tr th:only-of-type {\n",
       "        vertical-align: middle;\n",
       "    }\n",
       "\n",
       "    .dataframe tbody tr th {\n",
       "        vertical-align: top;\n",
       "    }\n",
       "\n",
       "    .dataframe thead th {\n",
       "        text-align: right;\n",
       "    }\n",
       "</style>\n",
       "<table border=\"1\" class=\"dataframe\">\n",
       "  <thead>\n",
       "    <tr style=\"text-align: right;\">\n",
       "      <th></th>\n",
       "      <th>X</th>\n",
       "      <th>Y</th>\n",
       "      <th>month</th>\n",
       "      <th>day</th>\n",
       "      <th>FFMC</th>\n",
       "      <th>DMC</th>\n",
       "      <th>DC</th>\n",
       "      <th>ISI</th>\n",
       "      <th>temp</th>\n",
       "      <th>RH</th>\n",
       "      <th>wind</th>\n",
       "      <th>rain</th>\n",
       "      <th>area</th>\n",
       "      <th>area_acres</th>\n",
       "      <th>fire_class_index</th>\n",
       "      <th>month_cat</th>\n",
       "      <th>day_cat</th>\n",
       "      <th>area_bin</th>\n",
       "    </tr>\n",
       "  </thead>\n",
       "  <tbody>\n",
       "    <tr>\n",
       "      <th>512</th>\n",
       "      <td>4</td>\n",
       "      <td>3</td>\n",
       "      <td>aug</td>\n",
       "      <td>sun</td>\n",
       "      <td>81.6</td>\n",
       "      <td>56.7</td>\n",
       "      <td>665.6</td>\n",
       "      <td>1.9</td>\n",
       "      <td>27.8</td>\n",
       "      <td>32</td>\n",
       "      <td>2.7</td>\n",
       "      <td>0.0</td>\n",
       "      <td>6.44</td>\n",
       "      <td>15.913562</td>\n",
       "      <td>2</td>\n",
       "      <td>1</td>\n",
       "      <td>3</td>\n",
       "      <td>1</td>\n",
       "    </tr>\n",
       "    <tr>\n",
       "      <th>513</th>\n",
       "      <td>2</td>\n",
       "      <td>4</td>\n",
       "      <td>aug</td>\n",
       "      <td>sun</td>\n",
       "      <td>81.6</td>\n",
       "      <td>56.7</td>\n",
       "      <td>665.6</td>\n",
       "      <td>1.9</td>\n",
       "      <td>21.9</td>\n",
       "      <td>71</td>\n",
       "      <td>5.8</td>\n",
       "      <td>0.0</td>\n",
       "      <td>54.29</td>\n",
       "      <td>134.153304</td>\n",
       "      <td>2</td>\n",
       "      <td>1</td>\n",
       "      <td>3</td>\n",
       "      <td>1</td>\n",
       "    </tr>\n",
       "    <tr>\n",
       "      <th>514</th>\n",
       "      <td>7</td>\n",
       "      <td>4</td>\n",
       "      <td>aug</td>\n",
       "      <td>sun</td>\n",
       "      <td>81.6</td>\n",
       "      <td>56.7</td>\n",
       "      <td>665.6</td>\n",
       "      <td>1.9</td>\n",
       "      <td>21.2</td>\n",
       "      <td>70</td>\n",
       "      <td>6.7</td>\n",
       "      <td>0.0</td>\n",
       "      <td>11.16</td>\n",
       "      <td>27.576918</td>\n",
       "      <td>2</td>\n",
       "      <td>1</td>\n",
       "      <td>3</td>\n",
       "      <td>1</td>\n",
       "    </tr>\n",
       "    <tr>\n",
       "      <th>515</th>\n",
       "      <td>1</td>\n",
       "      <td>4</td>\n",
       "      <td>aug</td>\n",
       "      <td>sat</td>\n",
       "      <td>94.4</td>\n",
       "      <td>146.0</td>\n",
       "      <td>614.7</td>\n",
       "      <td>11.3</td>\n",
       "      <td>25.6</td>\n",
       "      <td>42</td>\n",
       "      <td>4.0</td>\n",
       "      <td>0.0</td>\n",
       "      <td>0.00</td>\n",
       "      <td>0.000000</td>\n",
       "      <td>0</td>\n",
       "      <td>1</td>\n",
       "      <td>2</td>\n",
       "      <td>0</td>\n",
       "    </tr>\n",
       "    <tr>\n",
       "      <th>516</th>\n",
       "      <td>6</td>\n",
       "      <td>3</td>\n",
       "      <td>nov</td>\n",
       "      <td>tue</td>\n",
       "      <td>79.5</td>\n",
       "      <td>3.0</td>\n",
       "      <td>106.7</td>\n",
       "      <td>1.1</td>\n",
       "      <td>11.8</td>\n",
       "      <td>31</td>\n",
       "      <td>4.5</td>\n",
       "      <td>0.0</td>\n",
       "      <td>0.00</td>\n",
       "      <td>0.000000</td>\n",
       "      <td>0</td>\n",
       "      <td>9</td>\n",
       "      <td>5</td>\n",
       "      <td>0</td>\n",
       "    </tr>\n",
       "  </tbody>\n",
       "</table>\n",
       "</div>"
      ],
      "text/plain": [
       "     X  Y month  day  FFMC    DMC     DC   ISI  temp  RH  wind  rain   area  \\\n",
       "512  4  3   aug  sun  81.6   56.7  665.6   1.9  27.8  32   2.7   0.0   6.44   \n",
       "513  2  4   aug  sun  81.6   56.7  665.6   1.9  21.9  71   5.8   0.0  54.29   \n",
       "514  7  4   aug  sun  81.6   56.7  665.6   1.9  21.2  70   6.7   0.0  11.16   \n",
       "515  1  4   aug  sat  94.4  146.0  614.7  11.3  25.6  42   4.0   0.0   0.00   \n",
       "516  6  3   nov  tue  79.5    3.0  106.7   1.1  11.8  31   4.5   0.0   0.00   \n",
       "\n",
       "     area_acres  fire_class_index  month_cat  day_cat  area_bin  \n",
       "512   15.913562                 2          1        3         1  \n",
       "513  134.153304                 2          1        3         1  \n",
       "514   27.576918                 2          1        3         1  \n",
       "515    0.000000                 0          1        2         0  \n",
       "516    0.000000                 0          9        5         0  "
      ]
     },
     "execution_count": 51,
     "metadata": {},
     "output_type": "execute_result"
    }
   ],
   "source": [
    "df1 = df.copy()\n",
    "df1['fire_class_index'] = df1['fire_class_index'].replace((1,3,5),(0,2,4))\n",
    "df1.tail()"
   ]
  },
  {
   "cell_type": "code",
   "execution_count": 52,
   "metadata": {},
   "outputs": [
    {
     "data": {
      "text/plain": [
       "array([0, 2, 4])"
      ]
     },
     "execution_count": 52,
     "metadata": {},
     "output_type": "execute_result"
    }
   ],
   "source": [
    "np.unique(df1['fire_class_index'])\n"
   ]
  },
  {
   "cell_type": "code",
   "execution_count": 53,
   "metadata": {},
   "outputs": [],
   "source": [
    "df1['fire_class_index'] = df1['fire_class_index'].replace((0,2,4),(0,1,2))\n",
    "newClasses = [\"A\", \"C\", \"E\"]"
   ]
  },
  {
   "cell_type": "code",
   "execution_count": 54,
   "metadata": {},
   "outputs": [
    {
     "data": {
      "text/plain": [
       "array([0, 1, 2])"
      ]
     },
     "execution_count": 54,
     "metadata": {},
     "output_type": "execute_result"
    }
   ],
   "source": [
    "np.unique(df1['fire_class_index'])"
   ]
  },
  {
   "cell_type": "markdown",
   "metadata": {},
   "source": [
    "### Classifiers using all features and fire_class_index as target variable with Smote Oversampling"
   ]
  },
  {
   "cell_type": "code",
   "execution_count": 55,
   "metadata": {},
   "outputs": [],
   "source": [
    "X = df1.drop([\"area\",\"day\",\"month\",\"area_acres\",\"fire_class_index\", \"area_bin\"],axis = 1)# input data\n",
    "y = df1[\"fire_class_index\"] #target data"
   ]
  },
  {
   "cell_type": "code",
   "execution_count": 56,
   "metadata": {},
   "outputs": [],
   "source": [
    "oversample  = SMOTE()\n",
    "X_smote,y_smote = oversample.fit_resample(X, y)\n",
    "#X_te_smote, y_te_smote = oversample.fit_resample(X_test, y_test)\n",
    "# X_tr_smote,y_tr_smote = oversample.fit_resample(X_train, y_train)\n",
    "# X_te_smote, y_te_smote = oversample.fit_resample(X_test, y_test)"
   ]
  },
  {
   "cell_type": "code",
   "execution_count": 57,
   "metadata": {},
   "outputs": [],
   "source": [
    "# model = RandomForestClassifier()\n",
    "# cv = RepeatedStratifiedKFold(n_splits=5, n_repeats=3, random_state=1)\n",
    "# scores = cross_val_score(model, X_smote, y_smote, cv=cv, n_jobs=-1)\n",
    "# print('Scores: ', scores , \"\\n Mean: \",np.mean(scores))\n",
    "X_smote_train,X_smote_test,y_smote_train,y_smote_test = train_test_split(X_smote,y_smote,test_size = 0.3,random_state = 0,shuffle=True)\n",
    "\n",
    "sc=StandardScaler()\n",
    "X_smote_train_std=sc.fit_transform(X_smote_train)\n",
    "X_smote_test_std=sc.transform(X_smote_test)\n",
    "class_names = np.unique(y_smote_train)\n"
   ]
  },
  {
   "cell_type": "code",
   "execution_count": 58,
   "metadata": {},
   "outputs": [
    {
     "name": "stdout",
     "output_type": "stream",
     "text": [
      "Fitting 10 folds for each of 30 candidates, totalling 300 fits\n",
      "Best paramters: {'n_neighbors': 1})\n",
      "Validation accuracy:0.800\n",
      "1\n"
     ]
    }
   ],
   "source": [
    "#knn\n",
    "param_grid = dict(n_neighbors=list(range(1, 31)))\n",
    "clf = KNeighborsClassifier()\n",
    "tree_cv = GridSearchCV(estimator=clf, param_grid = param_grid, scoring=\"accuracy\", n_jobs=-1, verbose=1, cv=10)\n",
    "tree_cv.fit(X_smote_train_std, y_smote_train)\n",
    "best_params = tree_cv.best_params_\n",
    "print(f\"Best paramters: {best_params})\")\n",
    "#make confusion matrix\n",
    "clf = KNeighborsClassifier(**best_params)\n",
    "clf.fit(X_smote_train_std, y_smote_train)\n",
    "y_pred = clf.predict(X_smote_test_std)\n",
    "#\n",
    "acc_k = accuracy_score(y_smote_test, y_pred)\n",
    "cm_k = confusion_matrix(y_smote_test, y_pred)\n",
    "print(f\"Validation accuracy:%3.3f\"%acc_k)\n",
    "k_cv = best_params['n_neighbors']\n",
    "print(k_cv)"
   ]
  },
  {
   "cell_type": "code",
   "execution_count": 59,
   "metadata": {},
   "outputs": [
    {
     "name": "stdout",
     "output_type": "stream",
     "text": [
      "Fitting 10 folds for each of 8 candidates, totalling 80 fits\n",
      "Best paramters: {'criterion': 'gini', 'max_depth': 3, 'min_samples_split': 10})\n",
      "Validation accuracy:0.550\n"
     ]
    }
   ],
   "source": [
    "#decision tree\n",
    "#my best\n",
    "#{'criterion': 'gini', 'max_depth': 8, 'min_samples_split': 2, 'n_estimators': 200} acc=0.630\n",
    "param_grid = {\n",
    "    \"criterion\":([\"gini\",'entropy']),\n",
    "    \"max_depth\":([2,3]), \n",
    "    \"min_samples_split\":([10,20])\n",
    "}\n",
    "#Decision tree classifier\n",
    "clf = DecisionTreeClassifier(random_state=0,criterion=\"gini\")\n",
    "tree_cv = GridSearchCV(estimator=clf, param_grid = param_grid, scoring=\"accuracy\", n_jobs=-1, verbose=1, cv=10)\n",
    "tree_cv.fit(X_smote_train, y_smote_train)\n",
    "best_params = tree_cv.best_params_\n",
    "print(f\"Best paramters: {best_params})\")\n",
    "#make confusion matrix\n",
    "clf_dt = DecisionTreeClassifier(**best_params,random_state=0)\n",
    "clf_dt.fit(X_smote_train, y_smote_train)\n",
    "y_pred = clf_dt.predict(X_smote_test)\n",
    "#\n",
    "acc_dt = accuracy_score(y_smote_test, y_pred)\n",
    "cm_dt = confusion_matrix(y_smote_test, y_pred)\n",
    "print(f\"Validation accuracy:%3.3f\"%acc_dt)"
   ]
  },
  {
   "cell_type": "code",
   "execution_count": 60,
   "metadata": {},
   "outputs": [
    {
     "name": "stdout",
     "output_type": "stream",
     "text": [
      "0.521875\n"
     ]
    }
   ],
   "source": [
    "#Naive Bayes\n",
    "gnb = naive_bayes.GaussianNB()\n",
    "gnb.fit(X_smote_train, y_smote_train)\n",
    "y_pred = gnb.predict(X_smote_test)\n",
    "cm = confusion_matrix(y_smote_test, y_pred)\n",
    "acc = accuracy_score(y_smote_test, y_pred)\n",
    "print(acc)"
   ]
  },
  {
   "cell_type": "code",
   "execution_count": 61,
   "metadata": {},
   "outputs": [
    {
     "name": "stdout",
     "output_type": "stream",
     "text": [
      "Fitting 10 folds for each of 48 candidates, totalling 480 fits\n",
      "Best paramters: {'bootstrap': True, 'max_depth': 5, 'max_features': 4, 'min_samples_split': 5, 'n_estimators': 200})\n",
      "Validation accuracy:0.675\n"
     ]
    }
   ],
   "source": [
    "#random forest\n",
    "#my best\n",
    "#{'bootstrap': True, 'max_depth': 4, 'max_features': 2, 'min_samples_split': 5, 'n_estimators': 200}) %0.933\n",
    "param_grid = {\n",
    "    \"n_estimators\": [100,200,500],\n",
    "    \"max_depth\":([4,5]),\n",
    "    \"min_samples_split\":([5,10]),\n",
    "    \"bootstrap\":(True,False),\n",
    "    \"max_features\":[2,4]\n",
    "}\n",
    "#Random forest classifier\n",
    "clf = RandomForestClassifier(random_state=0,criterion=\"gini\")\n",
    "#tree_cv = RandomizedSearchCV(estimator=clf, param_distributions=param_grid, n_iter = 40, scoring=\"accuracy\", cv = 10, verbose=1, random_state=1, n_jobs=-1)\n",
    "tree_cv = GridSearchCV(estimator=clf, param_grid = param_grid, scoring=\"accuracy\", n_jobs=-1, verbose=1, cv=10)\n",
    "tree_cv.fit(X_smote_train, y_smote_train)\n",
    "best_params = tree_cv.best_params_\n",
    "print(f\"Best paramters: {best_params})\")\n",
    "#make confusion matrix\n",
    "clf = RandomForestClassifier(**best_params,random_state=0)\n",
    "clf.fit(X_smote_train, y_smote_train)\n",
    "y_pred = clf.predict(X_smote_test)\n",
    "#\n",
    "acc_rf = accuracy_score(y_smote_test, y_pred)\n",
    "cm_rf = confusion_matrix(y_smote_test, y_pred)\n",
    "print(f\"Validation accuracy:%3.3f\"%acc_rf)"
   ]
  },
  {
   "cell_type": "markdown",
   "metadata": {},
   "source": [
    "### Classifiers using selective features and area_fire_index as variable with Smote Oversampling"
   ]
  },
  {
   "cell_type": "code",
   "execution_count": 62,
   "metadata": {},
   "outputs": [],
   "source": [
    "X = df1[['temp','FFMC','DC']]\n",
    "# input data\n",
    "y = df1[\"fire_class_index\"] #target data\n",
    "oversample  = SMOTE()\n",
    "X_smote,y_smote = oversample.fit_resample(X, y)"
   ]
  },
  {
   "cell_type": "code",
   "execution_count": 63,
   "metadata": {},
   "outputs": [],
   "source": [
    "X_smote_train,X_smote_test,y_smote_train,y_smote_test = train_test_split(X_smote,y_smote,test_size = 0.3,random_state = 0,shuffle=True)\n",
    "\n",
    "sc=StandardScaler()\n",
    "X_smote_train_std=sc.fit_transform(X_smote_train)\n",
    "X_smote_test_std=sc.transform(X_smote_test)\n",
    "class_names = np.unique(y_smote_train)\n"
   ]
  },
  {
   "cell_type": "code",
   "execution_count": 64,
   "metadata": {},
   "outputs": [
    {
     "name": "stdout",
     "output_type": "stream",
     "text": [
      "Fitting 10 folds for each of 30 candidates, totalling 300 fits\n",
      "Best paramters: {'n_neighbors': 1})\n",
      "Validation accuracy:0.697\n",
      "1\n"
     ]
    }
   ],
   "source": [
    "#knn\n",
    "param_grid = dict(n_neighbors=list(range(1, 31)))\n",
    "clf = KNeighborsClassifier()\n",
    "tree_cv = GridSearchCV(estimator=clf, param_grid = param_grid, scoring=\"accuracy\", n_jobs=-1, verbose=1, cv=10)\n",
    "tree_cv.fit(X_smote_train_std, y_smote_train)\n",
    "best_params = tree_cv.best_params_\n",
    "print(f\"Best paramters: {best_params})\")\n",
    "#make confusion matrix\n",
    "clf = KNeighborsClassifier(**best_params)\n",
    "clf.fit(X_smote_train_std, y_smote_train)\n",
    "y_pred = clf.predict(X_smote_test_std)\n",
    "#\n",
    "acc_k = accuracy_score(y_smote_test, y_pred)\n",
    "cm_k = confusion_matrix(y_smote_test, y_pred)\n",
    "print(f\"Validation accuracy:%3.3f\"%acc_k)\n",
    "k_cv = best_params['n_neighbors']\n",
    "print(k_cv)"
   ]
  },
  {
   "cell_type": "code",
   "execution_count": 65,
   "metadata": {},
   "outputs": [
    {
     "name": "stdout",
     "output_type": "stream",
     "text": [
      "Fitting 10 folds for each of 8 candidates, totalling 80 fits\n",
      "Best paramters: {'criterion': 'entropy', 'max_depth': 3, 'min_samples_split': 10})\n",
      "Validation accuracy:0.553\n"
     ]
    }
   ],
   "source": [
    "#decision tree\n",
    "#my best\n",
    "#{'criterion': 'gini', 'max_depth': 8, 'min_samples_split': 2, 'n_estimators': 200} acc=0.630\n",
    "param_grid = {\n",
    "    \"criterion\":([\"gini\",'entropy']),\n",
    "    \"max_depth\":([2,3]), \n",
    "    \"min_samples_split\":([10,20])\n",
    "}\n",
    "#Decision tree classifier\n",
    "clf = DecisionTreeClassifier(random_state=0,criterion=\"gini\")\n",
    "tree_cv = GridSearchCV(estimator=clf, param_grid = param_grid, scoring=\"accuracy\", n_jobs=-1, verbose=1, cv=10)\n",
    "tree_cv.fit(X_smote_train, y_smote_train)\n",
    "best_params = tree_cv.best_params_\n",
    "print(f\"Best paramters: {best_params})\")\n",
    "#make confusion matrix\n",
    "clf_dt = DecisionTreeClassifier(**best_params,random_state=0)\n",
    "clf_dt.fit(X_smote_train, y_smote_train)\n",
    "y_pred = clf_dt.predict(X_smote_test)\n",
    "#\n",
    "acc_dt = accuracy_score(y_smote_test, y_pred)\n",
    "cm_dt = confusion_matrix(y_smote_test, y_pred)\n",
    "print(f\"Validation accuracy:%3.3f\"%acc_dt)"
   ]
  },
  {
   "cell_type": "code",
   "execution_count": 66,
   "metadata": {},
   "outputs": [
    {
     "name": "stdout",
     "output_type": "stream",
     "text": [
      "0.48125\n"
     ]
    }
   ],
   "source": [
    "#Naive Bayes\n",
    "gnb = naive_bayes.GaussianNB()\n",
    "gnb.fit(X_smote_train, y_smote_train)\n",
    "y_pred = gnb.predict(X_smote_test)\n",
    "cm = confusion_matrix(y_smote_test, y_pred)\n",
    "acc = accuracy_score(y_smote_test, y_pred)\n",
    "print(acc)"
   ]
  },
  {
   "cell_type": "code",
   "execution_count": 67,
   "metadata": {},
   "outputs": [
    {
     "name": "stdout",
     "output_type": "stream",
     "text": [
      "Fitting 10 folds for each of 48 candidates, totalling 480 fits\n",
      "Best paramters: {'bootstrap': True, 'max_depth': 5, 'max_features': 2, 'min_samples_split': 10, 'n_estimators': 500})\n",
      "Validation accuracy:0.628\n"
     ]
    }
   ],
   "source": [
    "#random forest\n",
    "#my best\n",
    "#{'bootstrap': True, 'max_depth': 4, 'max_features': 2, 'min_samples_split': 5, 'n_estimators': 200}) %0.933\n",
    "param_grid = {\n",
    "    \"n_estimators\": [100,200,500],\n",
    "    \"max_depth\":([4,5]),\n",
    "    \"min_samples_split\":([5,10]),\n",
    "    \"bootstrap\":(True,False),\n",
    "    \"max_features\":[2,4]\n",
    "}\n",
    "#Random forest classifier\n",
    "clf = RandomForestClassifier(random_state=0,criterion=\"gini\")\n",
    "#tree_cv = RandomizedSearchCV(estimator=clf, param_distributions=param_grid, n_iter = 40, scoring=\"accuracy\", cv = 10, verbose=1, random_state=1, n_jobs=-1)\n",
    "tree_cv = GridSearchCV(estimator=clf, param_grid = param_grid, scoring=\"accuracy\", n_jobs=-1, verbose=1, cv=10)\n",
    "tree_cv.fit(X_smote_train, y_smote_train)\n",
    "best_params = tree_cv.best_params_\n",
    "print(f\"Best paramters: {best_params})\")\n",
    "#make confusion matrix\n",
    "clf = RandomForestClassifier(**best_params,random_state=0)\n",
    "clf.fit(X_smote_train, y_smote_train)\n",
    "y_pred = clf.predict(X_smote_test)\n",
    "#\n",
    "acc_rf = accuracy_score(y_smote_test, y_pred)\n",
    "cm_rf = confusion_matrix(y_smote_test, y_pred)\n",
    "print(f\"Validation accuracy:%3.3f\"%acc_rf)"
   ]
  },
  {
   "cell_type": "code",
   "execution_count": null,
   "metadata": {},
   "outputs": [],
   "source": []
  }
 ],
 "metadata": {
  "kernelspec": {
   "display_name": "Python 3",
   "language": "python",
   "name": "python3"
  },
  "language_info": {
   "codemirror_mode": {
    "name": "ipython",
    "version": 3
   },
   "file_extension": ".py",
   "mimetype": "text/x-python",
   "name": "python",
   "nbconvert_exporter": "python",
   "pygments_lexer": "ipython3",
   "version": "3.8.5"
  }
 },
 "nbformat": 4,
 "nbformat_minor": 4
}
